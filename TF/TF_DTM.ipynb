{
 "cells": [
  {
   "cell_type": "markdown",
   "metadata": {
    "id": "LWQ2LatB_z75"
   },
   "source": [
    "# Trabalho Final de Mineração de Dados\n",
    "\n",
    "A descrição completa do problema pode ser encontrado em: [Codenation-Enem2](https://www.kaggle.com/davispeixoto/codenation-enem2)\n",
    "\n",
    "#### Descrição dos Dados\n",
    "    \n",
    "    NU_INSCRICAO: Número de inscrição\n",
    "    NU_ANO: Ano do Enem\n",
    "    CO_MUNICIPIO_RESIDENCIA: Código do município de residência \n",
    "    NO_MUNICIPIO_RESIDENCIA: Nome do município de residência\n",
    "    CO_UF_RESIDENCIA: Código da Unidade da Federação de residência\n",
    "    SG_UF_RESIDENCIA: Sigla da Unidade da Federação de residência\n",
    "    NU_IDADE: Idade\n",
    "    TP_SEXO: Sexo\n",
    "    TP_ESTADO_CIVIL: Estado Civil\n",
    "    TP_COR_RACA: Cor/raça\n",
    "    TP_NACIONALIDADE: Nacionalidade\n",
    "    CO_MUNICIPIO_NASCIMENTO: Código do município de nascimento\n",
    "    NO_MUNICIPIO_NASCIMENTO: Nome do município de nascimento\n",
    "    CO_UF_NASCIMENTO: Código da Unidade da Federação de nascimento\n",
    "    SG_UF_NASCIMENTO: Sigla da Unidade da Federação de nascimento\n",
    "    TP_ST_CONCLUSAO: Situação de conclusão do Ensino Médio\n",
    "    TP_ANO_CONCLUIU: Ano de Conclusão do Ensino Médio\n",
    "    TP_ESCOLA: Tipo de escola do Ensino Médio\n",
    "    TP_ENSINO: Tipo de instituição que concluiu ou concluirá o Ensino Médio \n",
    "    IN_TREINEIRO: Indica se o inscrito fez a prova com intuito de apenas treinar seus conhecimentos3\n",
    "    CO_ESCOLA: Código da Escola4\n",
    "    CO_MUNICIPIO_ESC: Código do município da escola \n",
    "    NO_MUNICIPIO_ESC: Nome do município da escola\n",
    "    CO_UF_ESC: Código da Unidade da Federação da escola\n",
    "    SG_UF_ESC: Sigla da Unidade da Federação da escola\n",
    "    TP_DEPENDENCIA_ADM_ESC: Dependência administrativa (Escola)\n",
    "    TP_LOCALIZACAO_ESC: Localização (Escola)\n",
    "    TP_SIT_FUNC_ESC: Situação de funcionamento (Escola)\n",
    "    IN_BAIXA_VISAO: Indicador de baixa visão\n",
    "    IN_CEGUEIRA: Indicador de cegueira\n",
    "    IN_SURDEZ: Indicador de surdez\n",
    "    IN_DEFICIENCIA_AUDITIVA: Indicador de deficiência auditiva\n",
    "    IN_SURDO_CEGUEIRA: Indicador de surdo-cegueira\n",
    "    IN_DEFICIENCIA_FISICA: Indicador de deficiência física\n",
    "    IN_DEFICIENCIA_MENTAL: Indicador de deficiência mental\n",
    "    IN_DEFICIT_ATENCAO: Indicador de déficit de atenção\n",
    "    IN_DISLEXIA: Indicador de dislexia\n",
    "    IN_DISCALCULIA: Indicador de discalculia\n",
    "    IN_AUTISMO: Indicador de autismo\n",
    "    IN_VISAO_MONOCULAR: Indicador de visão monocular\n",
    "    IN_OUTRA_DEF: Indicador de outra deficiência ou condição especial\n",
    "    IN_SABATISTA: Indicador de solicitação de prova aplicada em horário diferenciado para os guardadores dos sábados\n",
    "    IN_GESTANTE: Indicador de gestante\n",
    "    IN_LACTANTE: Indicador de lactante\n",
    "    IN_IDOSO: Indicador de inscrito idoso\n",
    "    IN_ESTUDA_CLASSE_HOSPITALAR: Indicador de inscrição em Unidade Hospitalar\n",
    "    IN_SEM_RECURSO: Indicador de inscrito que não requisitou nenhum recurso\n",
    "    IN_BRAILLE: Indicador de solicitação de prova em braille\n",
    "    IN_AMPLIADA_24: Indicador de solicitação de prova superampliada com fonte tamanho\n",
    "    IN_AMPLIADA_18: Indicador de solicitação de prova ampliada com fonte tamanho\n",
    "    IN_LEDOR: Indicador de solicitação de auxílio para leitura (ledor)\n",
    "    IN_ACESSO: Indicador de solicitação de sala de fácil acesso\n",
    "    IN_TRANSCRICAO: Indicador de solicitação de auxílio para transcrição\n",
    "    IN_LIBRAS: Indicador de solicitação de Tradutor- Intérprete Libras\n",
    "    IN_LEITURA_LABIAL: Indicador de solicitação de leitura labial \n",
    "    IN_MESA_CADEIRA_RODAS: Indicador de solicitação de mesa para cadeira de rodas\n",
    "    IN_MESA_CADEIRA_SEPARADA: Indicador de solicitação de mesa e cadeira separada\n",
    "    IN_APOIO_PERNA: Indicador de solicitação de apoio de perna e pé\n",
    "    IN_GUIA_INTERPRETE: Indicador de solicitação de guia intérprete\n",
    "    IN_MACA: Indicador de solicitação de maca\n",
    "    IN_COMPUTADOR: Indicador de solicitação de computador\n",
    "    IN_CADEIRA_ESPECIAL: Indicador de solicitação de cadeira especial\n",
    "    IN_CADEIRA_CANHOTO: Indicador de solicitação de cadeira para canhoto\n",
    "    IN_CADEIRA_ACOLCHOADA: Indicador de solicitação de cadeira acolchoada\n",
    "    IN_PROVA_DEITADO: Indicador de solicitação para fazer prova deitado em maca ou mobiliário similar\n",
    "    IN_MOBILIARIO_OBESO: Indicador de solicitação de mobiliário adequado para obeso\n",
    "    IN_LAMINA_OVERLAY: Indicador de solicitação de lâmina overlay\n",
    "    IN_PROTETOR_AURICULAR: Indicador de solicitação de protetor auricular\n",
    "    IN_MEDIDOR_GLICOSE: Indicador de solicitação de medidor de glicose e/ou aplicação de insulina\n",
    "    IN_MAQUINA_BRAILE: Indicador de solicitação de máquina Braile e/ou Reglete e Punção\n",
    "    IN_SOROBAN: Indicador de solicitação de soroban\n",
    "    IN_MARCA_PASSO: Indicador de solicitação de marca-passo (impeditivo de uso de detector de metais)\n",
    "    IN_SONDA: Indicador de solicitação de sonda com troca periódica\n",
    "    IN_MEDICAMENTOS: Indicador de solicitação de medicamentos\n",
    "    IN_SALA_INDIVIDUAL: Indicador de solicitação de sala especial individual\n",
    "    IN_SALA_ESPECIAL: Indicador de solicitação de sala especial até 20 participantes\n",
    "    IN_SALA_ACOMPANHANTE: Indicador de solicitação de sala reservada para acompanhantes\n",
    "    IN_MOBILIARIO_ESPECIFICO: Indicador de solicitação de mobiliário específico\n",
    "    IN_MATERIAL_ESPECIFICO: Indicador de solicitação de material específico\n",
    "    IN_NOME_SOCIAL: Indicador de inscrito que se declarou travesti, transexual ou transgênero e \n",
    "                    solicitou atendimento pelo Nome Social, conforme é reconhecido socialmente em \n",
    "                    consonância com sua identidade de gênero\n",
    "\n",
    "    IN_CERTIFICADO: Indicador de solicitação de certificação no Ensino Médio\n",
    "    NO_ENTIDADE_CERTIFICACAO: Nome da Entidade Certificadora\n",
    "    CO_UF_ENTIDADE_CERTIFICACAO: Código da Unidade da Federação da Entidade Certificadora\n",
    "    SG_UF_ENTIDADE_CERTIFICACAO: Sigla da Unidade da Federação da Entidade Certificadora\n",
    "    CO_MUNICIPIO_PROVA: Código do município da aplicação da prova\n",
    "    NO_MUNICIPIO_PROVA: Nome do município da aplicação da prova\n",
    "    CO_UF_PROVA: Código da Unidade da Federação da aplicação da prova\n",
    "    SG_UF_PROVA: Sigla da Unidade da Federação da aplicação da prova\n",
    "    TP_PRESENCA_CN: Presença na prova objetiva de Ciências da Natureza\n",
    "    TP_PRESENCA_CH: Presença na prova objetiva de Ciências Humanas\n",
    "    TP_PRESENCA_LC: Presença na prova objetiva de Linguagens e Códigos\n",
    "    TP_PRESENCA_MT: Presença na prova objetiva de Matemática\n",
    "    CO_PROVA_CN: Código do tipo de prova de Ciências da Natureza\n",
    "    CO_PROVA_CH: Código do tipo de prova de Ciências Humanas\n",
    "    CO_PROVA_LC: Código do tipo de prova de Linguagens e Códigos\n",
    "    CO_PROVA_MT: Código do tipo de prova de Matemática\n",
    "    NU_NOTA_CN: Nota da prova de Ciências da Natureza\n",
    "    NU_NOTA_CH: Nota da prova de Ciências Humanas\n",
    "    NU_NOTA_LC: Nota da prova de Linguagens e Códigos\n",
    "    NU_NOTA_MT: Nota da prova de Matemática\n",
    "    TX_RESPOSTAS_CN: Vetor com as respostas da parte objetiva da prova de Ciências da Natureza \n",
    "    TX_RESPOSTAS_CH: Vetor com as respostas da parte objetiva da prova de Ciências Humanas\n",
    "    TX_RESPOSTAS_LC: Vetor com as respostas da parte objetiva da prova de Linguagens e Códigos\n",
    "    TX_RESPOSTAS_MT: Vetor com as respostas da parte objetiva da prova de Matemática\n",
    "    TP_LINGUA: Língua Estrangeira \n",
    "    TX_GABARITO_CN: Vetor com o gabarito da parte objetiva da prova de Ciências da Natureza\n",
    "    TX_GABARITO_CH: Vetor com o gabarito da parte objetiva da prova de Ciências Humanas\n",
    "    TX_GABARITO_LC: Vetor com o gabarito da parte objetiva da prova de Linguagens e Códigos\n",
    "    TX_GABARITO_MT: Vetor com o gabarito da parte objetiva da prova de Matemática\n",
    "    TP_STATUS_REDACAO: Situação da redação do participante\n",
    "    NU_NOTA_COMP1: Nota da competência 1\n",
    "    NU_NOTA_COMP2: Nota da competência 2\n",
    "    NU_NOTA_COMP3: Nota da competência 3\n",
    "    NU_NOTA_COMP4: Nota da competência 4\n",
    "    NU_NOTA_COMP5: Nota da competência 5 \n",
    "    NU_NOTA_REDACAO: Nota da prova de redação\n",
    "    Q001: até que série seu pai, ou o homem responsável por você, estudou?\n",
    "    Q002: Até que série sua mãe, ou a mulher responsável por você, estudou?\n",
    "    Q003: A partir da apresentação de algumas ocupações divididas em grupos ordenados, \n",
    "            indique o grupo que contempla a ocupação mais próxima da ocupação do seu pai \n",
    "            ou do homem responsável por você. \n",
    "    Q004: A partir da apresentação de algumas ocupações divididas em grupos ordenados, \n",
    "          indique o grupo que contempla a ocupação mais próxima da ocupação da sua mãe ou da mulher responsável \n",
    "            por você.\n",
    "    Q005: Incluindo você, quantas pessoas moram atualmente em sua residência?\n",
    "    Q006: Qual é a renda mensal de sua família? (Some a sua renda com a dos seus familiares.)\n",
    "    Q007: Em sua residência trabalha empregado(a) doméstico(a)?\n",
    "    Q008: Na sua residência tem banheiro?\n",
    "    Q009: Na sua residência tem quartos para dormir?\n",
    "    Q010: Na sua residência tem carro?\n",
    "    Q011: Na sua residência tem motocicleta?\n",
    "    Q012: Na sua residência tem geladeira?\n",
    "    Q013: Na sua residência tem freezer (independente ou segunda porta da geladeira)?\n",
    "    Q014: Na sua residência tem máquina de lavar roupa? (o tanquinho NÃO deve ser considerado)\n",
    "    Q015: Na sua residência tem máquina de secar roupa (independente ou em conjunto com a máquina de lavar roupa)?\n",
    "    Q016: Na sua residência tem forno micro-ondas?\n",
    "    Q017: Na sua residência tem máquina de lavar louça?\n",
    "    Q018: Na sua residência tem aspirador de pó?\n",
    "    Q019: Na sua residência tem televisão em cores?\n",
    "    Q020: Na sua residência tem aparelho de DVD?\n",
    "    Q021: Na sua residência tem TV por assinatura?\n",
    "    Q022: Na sua residência tem telefone celular?\n",
    "    Q023: Na sua residência tem telefone fixo?\n",
    "    Q024: Na sua residência tem computador?\n",
    "    Q025: Na sua residência tem acesso à Internet?\n",
    "    Q02: Você exerce ou já exerceu atividade remunerada?\n",
    "    Q027: Com que idade você começou a exercer uma atividade remunerada?\n",
    "    Q028: Quantas horas semanais você trabalha ou trabalhava aproximadamente? \n",
    "        (Considere a atividade remunerada mais recente.)\n",
    "    Q029: Indique a importância de cada um dos motivos abaixo na sua decisão de trabalhar: \n",
    "          Ajudar meus pais nas despesas com a casa.\n",
    "    Q030: Indique a importância de cada um dos motivos abaixo na sua decisão de trabalhar: \n",
    "          Sustentar minha família (esposo/a, filhos/as etc.).\t\n",
    "    Q031: Indique a importância de cada um dos motivos abaixo na sua decisão de trabalhar: \n",
    "          Ser independente/ganhar meu próprio dinheiro.\n",
    "    Q032: Indique a importância de cada um dos motivos abaixo na sua decisão de trabalhar: Adquirir experiência.\n",
    "    Q033: Indique a importância de cada um dos motivos abaixo na sua decisão de trabalhar: \n",
    "            Custear/pagar meus estudos.\n",
    "    Q034: Indique os motivos que levaram você a participar do ENEM: Testar meus conhecimentos, \n",
    "          para aumentar as minhas chances de ingressar na Educação Superior.\n",
    "    Q035: Indique os motivos que levaram você a participar do ENEM: Ingressar na Educação Superior pública.\n",
    "    Q036: Indique os motivos que levaram você a participar do ENEM: Ingressar na Educação Superior privada.\n",
    "    Q037: Indique os motivos que levaram você a participar do ENEM: Conseguir uma bolsa de estudos (ProUni, outras).\n",
    "    Q038: Indique os motivos que levaram você a participar do ENEM: \n",
    "            Participar do Programa de Financiamento Estudantil - FIES.\n",
    "    Q039: Indique os motivos que levaram você a participar do ENEM: Participar do Programa Ciências Sem Fronteiras.\n",
    "    Q040: Indique os motivos que levaram você a participar do ENEM: Aumentar a possibilidade de conseguir um emprego.\n",
    "    Q041: Indique os motivos que levaram você a participar do ENEM: Progredir no meu emprego atual.\n",
    "    Q042: Em que tipo de escola você frequentou o Ensino Fundamental?\n",
    "    Q043: Marque entre as opções abaixo aquela que melhor descreve a modalidade de Ensino Fundamental que você \n",
    "            frequentou\n",
    "    Q044: Em que turno você frequentou o Ensino Fundamental?\n",
    "    Q045: Durante o Ensino Fundamental, você abandonou os estudos por algum tempo e/ou foi reprovado?\n",
    "    Q046: Você já concluiu ou está concluindo o Ensino Médio?\n",
    "    Q047: Em que tipo de escola você frequentou o Ensino Médio?\n",
    "    Q048: Marque entre as opções abaixo aquela que melhor descreve a modalidade de Ensino Médio que você frequentou\n",
    "    Q049: Em que turno você frequentou o Ensino Médio?\n",
    "    Q050: Durante o Ensino Médio, você abandonou os estudos por algum tempo e/ou foi reprovado?"
   ]
  },
  {
   "cell_type": "code",
   "execution_count": null,
   "metadata": {
    "id": "zY2A7ANJ_z8N"
   },
   "outputs": [],
   "source": [
    "%matplotlib inline\n",
    "import pandas as pd\n",
    "import matplotlib.pylab as plt\n",
    "import seaborn as sns\n",
    "import numpy as np\n",
    "from sklearn.preprocessing import StandardScaler\n",
    "from sklearn.model_selection import train_test_split\n",
    "\n",
    "from sklearn.svm import SVR\n",
    "from sklearn.linear_model import SGDRegressor\n",
    "from sklearn.neighbors import KNeighborsRegressor\n",
    "from sklearn.tree import DecisionTreeRegressor\n",
    "from sklearn.neural_network import MLPRegressor\n",
    "from sklearn.ensemble import RandomForestRegressor\n",
    "\n",
    "from sklearn.model_selection import cross_val_score\n",
    "from sklearn.model_selection import KFold\n",
    "from sklearn.pipeline import Pipeline\n",
    "from sklearn.model_selection import GridSearchCV\n",
    "from sklearn.metrics import mean_squared_error\n",
    "from sklearn.metrics import make_scorer\n",
    "from sklearn.feature_selection import RFE\n",
    "from sklearn.metrics import mean_squared_error"
   ]
  },
  {
   "cell_type": "code",
   "execution_count": null,
   "metadata": {
    "colab": {
     "base_uri": "https://localhost:8080/"
    },
    "id": "MAPk2ooxAIMH",
    "outputId": "6fdc6261-fadd-4c45-b6e5-2b91a30b5837"
   },
   "outputs": [
    {
     "name": "stdout",
     "output_type": "stream",
     "text": [
      "Drive already mounted at /content/drive/; to attempt to forcibly remount, call drive.mount(\"/content/drive/\", force_remount=True).\n"
     ]
    }
   ],
   "source": [
    "from google.colab import drive\n",
    "drive.mount('/content/drive/')"
   ]
  },
  {
   "cell_type": "code",
   "execution_count": null,
   "metadata": {
    "id": "mxIrWR-s_z8R"
   },
   "outputs": [],
   "source": [
    "data_train = pd.read_csv('/content/drive/My Drive/csvs/train.csv', na_values='?')\n",
    "data_test = pd.read_csv('/content/drive/My Drive/csvs/test.csv', na_values='?')"
   ]
  },
  {
   "cell_type": "markdown",
   "metadata": {
    "id": "SumrsC8p_z8U"
   },
   "source": [
    "O dataset possui muitos valores faltantes que podem atrapalhar na análise dos dados, então primeiramente trataremos os dados faltantes e em seguida analisaremos."
   ]
  },
  {
   "cell_type": "markdown",
   "metadata": {
    "id": "2TnVGfQf_z8W"
   },
   "source": [
    "### Verificando e tratando valores faltantes"
   ]
  },
  {
   "cell_type": "code",
   "execution_count": null,
   "metadata": {
    "colab": {
     "base_uri": "https://localhost:8080/"
    },
    "id": "APwSLQo2_z8X",
    "outputId": "d9b49823-9296-4c51-cdb4-4bc052d839c6"
   },
   "outputs": [
    {
     "name": "stdout",
     "output_type": "stream",
     "text": [
      "<class 'pandas.core.frame.DataFrame'>\n",
      "RangeIndex: 13730 entries, 0 to 13729\n",
      "Data columns (total 167 columns):\n",
      " #   Column                       Non-Null Count  Dtype  \n",
      "---  ------                       --------------  -----  \n",
      " 0   Unnamed: 0                   13730 non-null  int64  \n",
      " 1   NU_INSCRICAO                 13730 non-null  object \n",
      " 2   NU_ANO                       13730 non-null  int64  \n",
      " 3   CO_MUNICIPIO_RESIDENCIA      13730 non-null  int64  \n",
      " 4   NO_MUNICIPIO_RESIDENCIA      13730 non-null  object \n",
      " 5   CO_UF_RESIDENCIA             13730 non-null  int64  \n",
      " 6   SG_UF_RESIDENCIA             13730 non-null  object \n",
      " 7   NU_IDADE                     13730 non-null  int64  \n",
      " 8   TP_SEXO                      13730 non-null  object \n",
      " 9   TP_ESTADO_CIVIL              13202 non-null  float64\n",
      " 10  TP_COR_RACA                  13730 non-null  int64  \n",
      " 11  TP_NACIONALIDADE             13730 non-null  int64  \n",
      " 12  CO_MUNICIPIO_NASCIMENTO      13121 non-null  float64\n",
      " 13  NO_MUNICIPIO_NASCIMENTO      13121 non-null  object \n",
      " 14  CO_UF_NASCIMENTO             13121 non-null  float64\n",
      " 15  SG_UF_NASCIMENTO             13121 non-null  object \n",
      " 16  TP_ST_CONCLUSAO              13730 non-null  int64  \n",
      " 17  TP_ANO_CONCLUIU              13730 non-null  int64  \n",
      " 18  TP_ESCOLA                    13730 non-null  int64  \n",
      " 19  TP_ENSINO                    4282 non-null   float64\n",
      " 20  IN_TREINEIRO                 13730 non-null  int64  \n",
      " 21  CO_ESCOLA                    4282 non-null   float64\n",
      " 22  CO_MUNICIPIO_ESC             4282 non-null   float64\n",
      " 23  NO_MUNICIPIO_ESC             4282 non-null   object \n",
      " 24  CO_UF_ESC                    4282 non-null   float64\n",
      " 25  SG_UF_ESC                    4282 non-null   object \n",
      " 26  TP_DEPENDENCIA_ADM_ESC       4282 non-null   float64\n",
      " 27  TP_LOCALIZACAO_ESC           4282 non-null   float64\n",
      " 28  TP_SIT_FUNC_ESC              4282 non-null   float64\n",
      " 29  IN_BAIXA_VISAO               13730 non-null  int64  \n",
      " 30  IN_CEGUEIRA                  13730 non-null  int64  \n",
      " 31  IN_SURDEZ                    13730 non-null  int64  \n",
      " 32  IN_DEFICIENCIA_AUDITIVA      13730 non-null  int64  \n",
      " 33  IN_SURDO_CEGUEIRA            13730 non-null  int64  \n",
      " 34  IN_DEFICIENCIA_FISICA        13730 non-null  int64  \n",
      " 35  IN_DEFICIENCIA_MENTAL        13730 non-null  int64  \n",
      " 36  IN_DEFICIT_ATENCAO           13730 non-null  int64  \n",
      " 37  IN_DISLEXIA                  13730 non-null  int64  \n",
      " 38  IN_DISCALCULIA               13730 non-null  int64  \n",
      " 39  IN_AUTISMO                   13730 non-null  int64  \n",
      " 40  IN_VISAO_MONOCULAR           13730 non-null  int64  \n",
      " 41  IN_OUTRA_DEF                 13730 non-null  int64  \n",
      " 42  IN_SABATISTA                 13730 non-null  int64  \n",
      " 43  IN_GESTANTE                  13730 non-null  int64  \n",
      " 44  IN_LACTANTE                  13730 non-null  int64  \n",
      " 45  IN_IDOSO                     13730 non-null  int64  \n",
      " 46  IN_ESTUDA_CLASSE_HOSPITALAR  13730 non-null  int64  \n",
      " 47  IN_SEM_RECURSO               13730 non-null  int64  \n",
      " 48  IN_BRAILLE                   13730 non-null  int64  \n",
      " 49  IN_AMPLIADA_24               13730 non-null  int64  \n",
      " 50  IN_AMPLIADA_18               13730 non-null  int64  \n",
      " 51  IN_LEDOR                     13730 non-null  int64  \n",
      " 52  IN_ACESSO                    13730 non-null  int64  \n",
      " 53  IN_TRANSCRICAO               13730 non-null  int64  \n",
      " 54  IN_LIBRAS                    13730 non-null  int64  \n",
      " 55  IN_LEITURA_LABIAL            13730 non-null  int64  \n",
      " 56  IN_MESA_CADEIRA_RODAS        13730 non-null  int64  \n",
      " 57  IN_MESA_CADEIRA_SEPARADA     13730 non-null  int64  \n",
      " 58  IN_APOIO_PERNA               13730 non-null  int64  \n",
      " 59  IN_GUIA_INTERPRETE           13730 non-null  int64  \n",
      " 60  IN_MACA                      13730 non-null  int64  \n",
      " 61  IN_COMPUTADOR                13730 non-null  int64  \n",
      " 62  IN_CADEIRA_ESPECIAL          13730 non-null  int64  \n",
      " 63  IN_CADEIRA_CANHOTO           13730 non-null  int64  \n",
      " 64  IN_CADEIRA_ACOLCHOADA        13730 non-null  int64  \n",
      " 65  IN_PROVA_DEITADO             13730 non-null  int64  \n",
      " 66  IN_MOBILIARIO_OBESO          13730 non-null  int64  \n",
      " 67  IN_LAMINA_OVERLAY            13730 non-null  int64  \n",
      " 68  IN_PROTETOR_AURICULAR        13730 non-null  int64  \n",
      " 69  IN_MEDIDOR_GLICOSE           13730 non-null  int64  \n",
      " 70  IN_MAQUINA_BRAILE            13730 non-null  int64  \n",
      " 71  IN_SOROBAN                   13730 non-null  int64  \n",
      " 72  IN_MARCA_PASSO               13730 non-null  int64  \n",
      " 73  IN_SONDA                     13730 non-null  int64  \n",
      " 74  IN_MEDICAMENTOS              13730 non-null  int64  \n",
      " 75  IN_SALA_INDIVIDUAL           13730 non-null  int64  \n",
      " 76  IN_SALA_ESPECIAL             13730 non-null  int64  \n",
      " 77  IN_SALA_ACOMPANHANTE         13730 non-null  int64  \n",
      " 78  IN_MOBILIARIO_ESPECIFICO     13730 non-null  int64  \n",
      " 79  IN_MATERIAL_ESPECIFICO       13730 non-null  int64  \n",
      " 80  IN_NOME_SOCIAL               13730 non-null  int64  \n",
      " 81  IN_CERTIFICADO               13730 non-null  int64  \n",
      " 82  NO_ENTIDADE_CERTIFICACAO     1638 non-null   object \n",
      " 83  CO_UF_ENTIDADE_CERTIFICACAO  1638 non-null   float64\n",
      " 84  SG_UF_ENTIDADE_CERTIFICACAO  1638 non-null   object \n",
      " 85  CO_MUNICIPIO_PROVA           13730 non-null  int64  \n",
      " 86  NO_MUNICIPIO_PROVA           13730 non-null  object \n",
      " 87  CO_UF_PROVA                  13730 non-null  int64  \n",
      " 88  SG_UF_PROVA                  13730 non-null  object \n",
      " 89  TP_PRESENCA_CN               13730 non-null  int64  \n",
      " 90  TP_PRESENCA_CH               13730 non-null  int64  \n",
      " 91  TP_PRESENCA_LC               13730 non-null  int64  \n",
      " 92  TP_PRESENCA_MT               13730 non-null  int64  \n",
      " 93  CO_PROVA_CN                  13730 non-null  object \n",
      " 94  CO_PROVA_CH                  13730 non-null  object \n",
      " 95  CO_PROVA_LC                  13730 non-null  object \n",
      " 96  CO_PROVA_MT                  13730 non-null  object \n",
      " 97  NU_NOTA_CN                   10341 non-null  float64\n",
      " 98  NU_NOTA_CH                   10341 non-null  float64\n",
      " 99  NU_NOTA_LC                   10133 non-null  float64\n",
      " 100 NU_NOTA_MT                   10133 non-null  float64\n",
      " 101 TX_RESPOSTAS_CN              10341 non-null  object \n",
      " 102 TX_RESPOSTAS_CH              10341 non-null  object \n",
      " 103 TX_RESPOSTAS_LC              10133 non-null  object \n",
      " 104 TX_RESPOSTAS_MT              10133 non-null  object \n",
      " 105 TP_LINGUA                    13730 non-null  int64  \n",
      " 106 TX_GABARITO_CN               10341 non-null  object \n",
      " 107 TX_GABARITO_CH               10341 non-null  object \n",
      " 108 TX_GABARITO_LC               10133 non-null  object \n",
      " 109 TX_GABARITO_MT               10133 non-null  object \n",
      " 110 TP_STATUS_REDACAO            10133 non-null  float64\n",
      " 111 NU_NOTA_COMP1                10133 non-null  float64\n",
      " 112 NU_NOTA_COMP2                10133 non-null  float64\n",
      " 113 NU_NOTA_COMP3                10133 non-null  float64\n",
      " 114 NU_NOTA_COMP4                10133 non-null  float64\n",
      " 115 NU_NOTA_COMP5                10133 non-null  float64\n",
      " 116 NU_NOTA_REDACAO              10133 non-null  float64\n",
      " 117 Q001                         13730 non-null  object \n",
      " 118 Q002                         13730 non-null  object \n",
      " 119 Q003                         13730 non-null  object \n",
      " 120 Q004                         13730 non-null  object \n",
      " 121 Q005                         13730 non-null  int64  \n",
      " 122 Q006                         13730 non-null  object \n",
      " 123 Q007                         13730 non-null  object \n",
      " 124 Q008                         13730 non-null  object \n",
      " 125 Q009                         13730 non-null  object \n",
      " 126 Q010                         13730 non-null  object \n",
      " 127 Q011                         13730 non-null  object \n",
      " 128 Q012                         13730 non-null  object \n",
      " 129 Q013                         13730 non-null  object \n",
      " 130 Q014                         13730 non-null  object \n",
      " 131 Q015                         13730 non-null  object \n",
      " 132 Q016                         13730 non-null  object \n",
      " 133 Q017                         13730 non-null  object \n",
      " 134 Q018                         13730 non-null  object \n",
      " 135 Q019                         13730 non-null  object \n",
      " 136 Q020                         13730 non-null  object \n",
      " 137 Q021                         13730 non-null  object \n",
      " 138 Q022                         13730 non-null  object \n",
      " 139 Q023                         13730 non-null  object \n",
      " 140 Q024                         13730 non-null  object \n",
      " 141 Q025                         13730 non-null  object \n",
      " 142 Q026                         13730 non-null  object \n",
      " 143 Q027                         6357 non-null   object \n",
      " 144 Q028                         6354 non-null   object \n",
      " 145 Q029                         6355 non-null   float64\n",
      " 146 Q030                         6355 non-null   float64\n",
      " 147 Q031                         6354 non-null   float64\n",
      " 148 Q032                         6354 non-null   float64\n",
      " 149 Q033                         6354 non-null   float64\n",
      " 150 Q034                         13730 non-null  int64  \n",
      " 151 Q035                         13730 non-null  int64  \n",
      " 152 Q036                         13730 non-null  int64  \n",
      " 153 Q037                         13730 non-null  int64  \n",
      " 154 Q038                         13730 non-null  int64  \n",
      " 155 Q039                         13730 non-null  int64  \n",
      " 156 Q040                         13730 non-null  int64  \n",
      " 157 Q041                         2938 non-null   float64\n",
      " 158 Q042                         13730 non-null  object \n",
      " 159 Q043                         13730 non-null  object \n",
      " 160 Q044                         13730 non-null  object \n",
      " 161 Q045                         13730 non-null  object \n",
      " 162 Q046                         13730 non-null  object \n",
      " 163 Q047                         13730 non-null  object \n",
      " 164 Q048                         13730 non-null  object \n",
      " 165 Q049                         13730 non-null  object \n",
      " 166 Q050                         13730 non-null  object \n",
      "dtypes: float64(28), int64(79), object(60)\n",
      "memory usage: 17.5+ MB\n"
     ]
    }
   ],
   "source": [
    "data_train.info(verbose=True, null_counts=True)"
   ]
  },
  {
   "cell_type": "code",
   "execution_count": null,
   "metadata": {
    "colab": {
     "base_uri": "https://localhost:8080/"
    },
    "id": "xREme2jR_z8a",
    "outputId": "965dcfbd-ddf4-44e0-c911-ea1c60dab0fb",
    "scrolled": true
   },
   "outputs": [
    {
     "name": "stdout",
     "output_type": "stream",
     "text": [
      "<class 'pandas.core.frame.DataFrame'>\n",
      "RangeIndex: 4576 entries, 0 to 4575\n",
      "Data columns (total 47 columns):\n",
      " #   Column                  Non-Null Count  Dtype  \n",
      "---  ------                  --------------  -----  \n",
      " 0   NU_INSCRICAO            4576 non-null   object \n",
      " 1   CO_UF_RESIDENCIA        4576 non-null   int64  \n",
      " 2   SG_UF_RESIDENCIA        4576 non-null   object \n",
      " 3   NU_IDADE                4576 non-null   int64  \n",
      " 4   TP_SEXO                 4576 non-null   object \n",
      " 5   TP_COR_RACA             4576 non-null   int64  \n",
      " 6   TP_NACIONALIDADE        4576 non-null   int64  \n",
      " 7   TP_ST_CONCLUSAO         4576 non-null   int64  \n",
      " 8   TP_ANO_CONCLUIU         4576 non-null   int64  \n",
      " 9   TP_ESCOLA               4576 non-null   int64  \n",
      " 10  TP_ENSINO               1480 non-null   float64\n",
      " 11  IN_TREINEIRO            4576 non-null   int64  \n",
      " 12  TP_DEPENDENCIA_ADM_ESC  1480 non-null   float64\n",
      " 13  IN_BAIXA_VISAO          4576 non-null   int64  \n",
      " 14  IN_CEGUEIRA             4576 non-null   int64  \n",
      " 15  IN_SURDEZ               4576 non-null   int64  \n",
      " 16  IN_DISLEXIA             4576 non-null   int64  \n",
      " 17  IN_DISCALCULIA          4576 non-null   int64  \n",
      " 18  IN_SABATISTA            4576 non-null   int64  \n",
      " 19  IN_GESTANTE             4576 non-null   int64  \n",
      " 20  IN_IDOSO                4576 non-null   int64  \n",
      " 21  TP_PRESENCA_CN          4576 non-null   int64  \n",
      " 22  TP_PRESENCA_CH          4576 non-null   int64  \n",
      " 23  TP_PRESENCA_LC          4576 non-null   int64  \n",
      " 24  CO_PROVA_CN             4576 non-null   object \n",
      " 25  CO_PROVA_CH             4576 non-null   object \n",
      " 26  CO_PROVA_LC             4576 non-null   object \n",
      " 27  CO_PROVA_MT             4576 non-null   object \n",
      " 28  NU_NOTA_CN              3442 non-null   float64\n",
      " 29  NU_NOTA_CH              3442 non-null   float64\n",
      " 30  NU_NOTA_LC              3377 non-null   float64\n",
      " 31  TP_LINGUA               4576 non-null   int64  \n",
      " 32  TP_STATUS_REDACAO       3377 non-null   float64\n",
      " 33  NU_NOTA_COMP1           3377 non-null   float64\n",
      " 34  NU_NOTA_COMP2           3377 non-null   float64\n",
      " 35  NU_NOTA_COMP3           3377 non-null   float64\n",
      " 36  NU_NOTA_COMP4           3377 non-null   float64\n",
      " 37  NU_NOTA_COMP5           3377 non-null   float64\n",
      " 38  NU_NOTA_REDACAO         3377 non-null   float64\n",
      " 39  Q001                    4576 non-null   object \n",
      " 40  Q002                    4576 non-null   object \n",
      " 41  Q006                    4576 non-null   object \n",
      " 42  Q024                    4576 non-null   object \n",
      " 43  Q025                    4576 non-null   object \n",
      " 44  Q026                    4576 non-null   object \n",
      " 45  Q027                    2088 non-null   object \n",
      " 46  Q047                    4576 non-null   object \n",
      "dtypes: float64(12), int64(20), object(15)\n",
      "memory usage: 1.6+ MB\n"
     ]
    }
   ],
   "source": [
    "data_test.info(verbose=True, null_counts=True)"
   ]
  },
  {
   "cell_type": "code",
   "execution_count": null,
   "metadata": {
    "colab": {
     "base_uri": "https://localhost:8080/"
    },
    "id": "xJyvVZeZVITt",
    "outputId": "920f8acd-971e-4ef7-d716-7f09562fd0a1"
   },
   "outputs": [
    {
     "data": {
      "text/plain": [
       "TP_ESTADO_CIVIL                  528\n",
       "CO_MUNICIPIO_NASCIMENTO          609\n",
       "NO_MUNICIPIO_NASCIMENTO          609\n",
       "CO_UF_NASCIMENTO                 609\n",
       "SG_UF_NASCIMENTO                 609\n",
       "TP_ENSINO                       9448\n",
       "CO_ESCOLA                       9448\n",
       "CO_MUNICIPIO_ESC                9448\n",
       "NO_MUNICIPIO_ESC                9448\n",
       "CO_UF_ESC                       9448\n",
       "SG_UF_ESC                       9448\n",
       "TP_DEPENDENCIA_ADM_ESC          9448\n",
       "TP_LOCALIZACAO_ESC              9448\n",
       "TP_SIT_FUNC_ESC                 9448\n",
       "NO_ENTIDADE_CERTIFICACAO       12092\n",
       "CO_UF_ENTIDADE_CERTIFICACAO    12092\n",
       "SG_UF_ENTIDADE_CERTIFICACAO    12092\n",
       "NU_NOTA_CN                      3389\n",
       "NU_NOTA_CH                      3389\n",
       "NU_NOTA_LC                      3597\n",
       "NU_NOTA_MT                      3597\n",
       "TX_RESPOSTAS_CN                 3389\n",
       "TX_RESPOSTAS_CH                 3389\n",
       "TX_RESPOSTAS_LC                 3597\n",
       "TX_RESPOSTAS_MT                 3597\n",
       "TX_GABARITO_CN                  3389\n",
       "TX_GABARITO_CH                  3389\n",
       "TX_GABARITO_LC                  3597\n",
       "TX_GABARITO_MT                  3597\n",
       "TP_STATUS_REDACAO               3597\n",
       "NU_NOTA_COMP1                   3597\n",
       "NU_NOTA_COMP2                   3597\n",
       "NU_NOTA_COMP3                   3597\n",
       "NU_NOTA_COMP4                   3597\n",
       "NU_NOTA_COMP5                   3597\n",
       "NU_NOTA_REDACAO                 3597\n",
       "Q027                            7373\n",
       "Q028                            7376\n",
       "Q029                            7375\n",
       "Q030                            7375\n",
       "Q031                            7376\n",
       "Q032                            7376\n",
       "Q033                            7376\n",
       "Q041                           10792\n",
       "dtype: int64"
      ]
     },
     "execution_count": 285,
     "metadata": {
      "tags": []
     },
     "output_type": "execute_result"
    }
   ],
   "source": [
    "data_train.isna().sum()[data_train.isna().sum() > 0]"
   ]
  },
  {
   "cell_type": "code",
   "execution_count": null,
   "metadata": {
    "colab": {
     "base_uri": "https://localhost:8080/"
    },
    "id": "hiSVZmuPVLH6",
    "outputId": "82681fd3-f5a5-4119-9aaa-bdec9d33e8b4"
   },
   "outputs": [
    {
     "data": {
      "text/plain": [
       "TP_ENSINO                 3096\n",
       "TP_DEPENDENCIA_ADM_ESC    3096\n",
       "NU_NOTA_CN                1134\n",
       "NU_NOTA_CH                1134\n",
       "NU_NOTA_LC                1199\n",
       "TP_STATUS_REDACAO         1199\n",
       "NU_NOTA_COMP1             1199\n",
       "NU_NOTA_COMP2             1199\n",
       "NU_NOTA_COMP3             1199\n",
       "NU_NOTA_COMP4             1199\n",
       "NU_NOTA_COMP5             1199\n",
       "NU_NOTA_REDACAO           1199\n",
       "Q027                      2488\n",
       "dtype: int64"
      ]
     },
     "execution_count": 286,
     "metadata": {
      "tags": []
     },
     "output_type": "execute_result"
    }
   ],
   "source": [
    "data_test.isna().sum()[data_test.isna().sum() > 0]"
   ]
  },
  {
   "cell_type": "code",
   "execution_count": null,
   "metadata": {
    "id": "jGXxSHP4_z8b"
   },
   "outputs": [],
   "source": [
    "#colunas com muitos valores faltantes serão descartadas\n",
    "data_train.dropna(axis=1, thresh=(data_train.shape[0] * 0.5), inplace=True)\n",
    "data_test.dropna(axis=1, thresh=(data_test.shape[0] * 0.5), inplace=True)"
   ]
  },
  {
   "cell_type": "code",
   "execution_count": null,
   "metadata": {
    "id": "HmM_g5fk_z8w"
   },
   "outputs": [],
   "source": [
    "#descartando linhas com dados nulos\n",
    "data_train.dropna(axis=0, inplace=True)\n",
    "data_test.dropna(axis=0, inplace=True)"
   ]
  },
  {
   "cell_type": "code",
   "execution_count": null,
   "metadata": {
    "colab": {
     "base_uri": "https://localhost:8080/"
    },
    "id": "nffTza8w_z8f",
    "outputId": "506849dd-d42c-42ff-b4f3-7b7eb3bdb727"
   },
   "outputs": [
    {
     "data": {
      "text/plain": [
       "Series([], dtype: int64)"
      ]
     },
     "execution_count": 289,
     "metadata": {
      "tags": []
     },
     "output_type": "execute_result"
    }
   ],
   "source": [
    "data_train.isna().sum()[data_train.isna().sum() > 0]"
   ]
  },
  {
   "cell_type": "code",
   "execution_count": null,
   "metadata": {
    "colab": {
     "base_uri": "https://localhost:8080/"
    },
    "id": "4T47ZtvJ_z8y",
    "outputId": "09e1d864-9541-4d30-af9c-8f3487645786"
   },
   "outputs": [
    {
     "data": {
      "text/plain": [
       "Series([], dtype: int64)"
      ]
     },
     "execution_count": 290,
     "metadata": {
      "tags": []
     },
     "output_type": "execute_result"
    }
   ],
   "source": [
    "data_test.isna().sum()[data_test.isna().sum() > 0] #não há mais valores faltantes no dataset"
   ]
  },
  {
   "cell_type": "markdown",
   "metadata": {
    "id": "G-44Iji1_z8z"
   },
   "source": [
    "### Análise exploratória dos dados"
   ]
  },
  {
   "cell_type": "code",
   "execution_count": null,
   "metadata": {
    "colab": {
     "base_uri": "https://localhost:8080/"
    },
    "id": "Y4FT1qy1_z81",
    "outputId": "ee05fbeb-e94d-4ef7-dd7c-d29c6b01d662"
   },
   "outputs": [
    {
     "data": {
      "text/plain": [
       "((9385, 147), (3360, 44))"
      ]
     },
     "execution_count": 291,
     "metadata": {
      "tags": []
     },
     "output_type": "execute_result"
    }
   ],
   "source": [
    "data_train.shape, data_test.shape"
   ]
  },
  {
   "cell_type": "code",
   "execution_count": null,
   "metadata": {
    "colab": {
     "base_uri": "https://localhost:8080/"
    },
    "id": "pjo49E6w_z82",
    "outputId": "5d80746c-2aa2-4a0e-cb78-e82fdba87257"
   },
   "outputs": [
    {
     "data": {
      "text/html": [
       "<div>\n",
       "<style scoped>\n",
       "    .dataframe tbody tr th:only-of-type {\n",
       "        vertical-align: middle;\n",
       "    }\n",
       "\n",
       "    .dataframe tbody tr th {\n",
       "        vertical-align: top;\n",
       "    }\n",
       "\n",
       "    .dataframe thead th {\n",
       "        text-align: right;\n",
       "    }\n",
       "</style>\n",
       "<table border=\"1\" class=\"dataframe\">\n",
       "  <thead>\n",
       "    <tr style=\"text-align: right;\">\n",
       "      <th></th>\n",
       "      <th>Unnamed: 0</th>\n",
       "      <th>NU_INSCRICAO</th>\n",
       "      <th>NU_ANO</th>\n",
       "      <th>CO_MUNICIPIO_RESIDENCIA</th>\n",
       "      <th>NO_MUNICIPIO_RESIDENCIA</th>\n",
       "      <th>CO_UF_RESIDENCIA</th>\n",
       "      <th>SG_UF_RESIDENCIA</th>\n",
       "      <th>NU_IDADE</th>\n",
       "      <th>TP_SEXO</th>\n",
       "      <th>TP_ESTADO_CIVIL</th>\n",
       "      <th>TP_COR_RACA</th>\n",
       "      <th>TP_NACIONALIDADE</th>\n",
       "      <th>CO_MUNICIPIO_NASCIMENTO</th>\n",
       "      <th>NO_MUNICIPIO_NASCIMENTO</th>\n",
       "      <th>CO_UF_NASCIMENTO</th>\n",
       "      <th>SG_UF_NASCIMENTO</th>\n",
       "      <th>TP_ST_CONCLUSAO</th>\n",
       "      <th>TP_ANO_CONCLUIU</th>\n",
       "      <th>TP_ESCOLA</th>\n",
       "      <th>IN_TREINEIRO</th>\n",
       "      <th>IN_BAIXA_VISAO</th>\n",
       "      <th>IN_CEGUEIRA</th>\n",
       "      <th>IN_SURDEZ</th>\n",
       "      <th>IN_DEFICIENCIA_AUDITIVA</th>\n",
       "      <th>IN_SURDO_CEGUEIRA</th>\n",
       "      <th>IN_DEFICIENCIA_FISICA</th>\n",
       "      <th>IN_DEFICIENCIA_MENTAL</th>\n",
       "      <th>IN_DEFICIT_ATENCAO</th>\n",
       "      <th>IN_DISLEXIA</th>\n",
       "      <th>IN_DISCALCULIA</th>\n",
       "      <th>IN_AUTISMO</th>\n",
       "      <th>IN_VISAO_MONOCULAR</th>\n",
       "      <th>IN_OUTRA_DEF</th>\n",
       "      <th>IN_SABATISTA</th>\n",
       "      <th>IN_GESTANTE</th>\n",
       "      <th>IN_LACTANTE</th>\n",
       "      <th>IN_IDOSO</th>\n",
       "      <th>IN_ESTUDA_CLASSE_HOSPITALAR</th>\n",
       "      <th>IN_SEM_RECURSO</th>\n",
       "      <th>IN_BRAILLE</th>\n",
       "      <th>...</th>\n",
       "      <th>Q003</th>\n",
       "      <th>Q004</th>\n",
       "      <th>Q005</th>\n",
       "      <th>Q006</th>\n",
       "      <th>Q007</th>\n",
       "      <th>Q008</th>\n",
       "      <th>Q009</th>\n",
       "      <th>Q010</th>\n",
       "      <th>Q011</th>\n",
       "      <th>Q012</th>\n",
       "      <th>Q013</th>\n",
       "      <th>Q014</th>\n",
       "      <th>Q015</th>\n",
       "      <th>Q016</th>\n",
       "      <th>Q017</th>\n",
       "      <th>Q018</th>\n",
       "      <th>Q019</th>\n",
       "      <th>Q020</th>\n",
       "      <th>Q021</th>\n",
       "      <th>Q022</th>\n",
       "      <th>Q023</th>\n",
       "      <th>Q024</th>\n",
       "      <th>Q025</th>\n",
       "      <th>Q026</th>\n",
       "      <th>Q034</th>\n",
       "      <th>Q035</th>\n",
       "      <th>Q036</th>\n",
       "      <th>Q037</th>\n",
       "      <th>Q038</th>\n",
       "      <th>Q039</th>\n",
       "      <th>Q040</th>\n",
       "      <th>Q042</th>\n",
       "      <th>Q043</th>\n",
       "      <th>Q044</th>\n",
       "      <th>Q045</th>\n",
       "      <th>Q046</th>\n",
       "      <th>Q047</th>\n",
       "      <th>Q048</th>\n",
       "      <th>Q049</th>\n",
       "      <th>Q050</th>\n",
       "    </tr>\n",
       "  </thead>\n",
       "  <tbody>\n",
       "    <tr>\n",
       "      <th>0</th>\n",
       "      <td>1</td>\n",
       "      <td>ed50e8aaa58e7a806c337585efee9ca41f1eb1ad</td>\n",
       "      <td>2016</td>\n",
       "      <td>4314902</td>\n",
       "      <td>Porto Alegre</td>\n",
       "      <td>43</td>\n",
       "      <td>RS</td>\n",
       "      <td>24</td>\n",
       "      <td>M</td>\n",
       "      <td>0.0</td>\n",
       "      <td>1</td>\n",
       "      <td>1</td>\n",
       "      <td>4314902.0</td>\n",
       "      <td>Porto Alegre</td>\n",
       "      <td>43.0</td>\n",
       "      <td>RS</td>\n",
       "      <td>1</td>\n",
       "      <td>4</td>\n",
       "      <td>1</td>\n",
       "      <td>0</td>\n",
       "      <td>0</td>\n",
       "      <td>0</td>\n",
       "      <td>0</td>\n",
       "      <td>0</td>\n",
       "      <td>0</td>\n",
       "      <td>0</td>\n",
       "      <td>0</td>\n",
       "      <td>0</td>\n",
       "      <td>0</td>\n",
       "      <td>0</td>\n",
       "      <td>0</td>\n",
       "      <td>0</td>\n",
       "      <td>0</td>\n",
       "      <td>0</td>\n",
       "      <td>0</td>\n",
       "      <td>0</td>\n",
       "      <td>0</td>\n",
       "      <td>0</td>\n",
       "      <td>0</td>\n",
       "      <td>0</td>\n",
       "      <td>...</td>\n",
       "      <td>B</td>\n",
       "      <td>B</td>\n",
       "      <td>3</td>\n",
       "      <td>C</td>\n",
       "      <td>A</td>\n",
       "      <td>B</td>\n",
       "      <td>B</td>\n",
       "      <td>B</td>\n",
       "      <td>A</td>\n",
       "      <td>B</td>\n",
       "      <td>A</td>\n",
       "      <td>A</td>\n",
       "      <td>A</td>\n",
       "      <td>A</td>\n",
       "      <td>A</td>\n",
       "      <td>A</td>\n",
       "      <td>B</td>\n",
       "      <td>A</td>\n",
       "      <td>A</td>\n",
       "      <td>C</td>\n",
       "      <td>A</td>\n",
       "      <td>A</td>\n",
       "      <td>A</td>\n",
       "      <td>C</td>\n",
       "      <td>5</td>\n",
       "      <td>5</td>\n",
       "      <td>0</td>\n",
       "      <td>5</td>\n",
       "      <td>5</td>\n",
       "      <td>5</td>\n",
       "      <td>5</td>\n",
       "      <td>A</td>\n",
       "      <td>A</td>\n",
       "      <td>A</td>\n",
       "      <td>A</td>\n",
       "      <td>A</td>\n",
       "      <td>A</td>\n",
       "      <td>A</td>\n",
       "      <td>B</td>\n",
       "      <td>D</td>\n",
       "    </tr>\n",
       "    <tr>\n",
       "      <th>1</th>\n",
       "      <td>2</td>\n",
       "      <td>2c3acac4b33ec2b195d77e7c04a2d75727fad723</td>\n",
       "      <td>2016</td>\n",
       "      <td>2304707</td>\n",
       "      <td>Granja</td>\n",
       "      <td>23</td>\n",
       "      <td>CE</td>\n",
       "      <td>17</td>\n",
       "      <td>F</td>\n",
       "      <td>0.0</td>\n",
       "      <td>3</td>\n",
       "      <td>1</td>\n",
       "      <td>2304707.0</td>\n",
       "      <td>Granja</td>\n",
       "      <td>23.0</td>\n",
       "      <td>CE</td>\n",
       "      <td>2</td>\n",
       "      <td>0</td>\n",
       "      <td>2</td>\n",
       "      <td>0</td>\n",
       "      <td>0</td>\n",
       "      <td>0</td>\n",
       "      <td>0</td>\n",
       "      <td>0</td>\n",
       "      <td>0</td>\n",
       "      <td>0</td>\n",
       "      <td>0</td>\n",
       "      <td>0</td>\n",
       "      <td>0</td>\n",
       "      <td>0</td>\n",
       "      <td>0</td>\n",
       "      <td>0</td>\n",
       "      <td>0</td>\n",
       "      <td>0</td>\n",
       "      <td>0</td>\n",
       "      <td>0</td>\n",
       "      <td>0</td>\n",
       "      <td>0</td>\n",
       "      <td>0</td>\n",
       "      <td>0</td>\n",
       "      <td>...</td>\n",
       "      <td>A</td>\n",
       "      <td>A</td>\n",
       "      <td>5</td>\n",
       "      <td>B</td>\n",
       "      <td>A</td>\n",
       "      <td>B</td>\n",
       "      <td>B</td>\n",
       "      <td>A</td>\n",
       "      <td>A</td>\n",
       "      <td>B</td>\n",
       "      <td>A</td>\n",
       "      <td>A</td>\n",
       "      <td>A</td>\n",
       "      <td>A</td>\n",
       "      <td>A</td>\n",
       "      <td>A</td>\n",
       "      <td>B</td>\n",
       "      <td>A</td>\n",
       "      <td>A</td>\n",
       "      <td>A</td>\n",
       "      <td>A</td>\n",
       "      <td>A</td>\n",
       "      <td>A</td>\n",
       "      <td>A</td>\n",
       "      <td>5</td>\n",
       "      <td>5</td>\n",
       "      <td>1</td>\n",
       "      <td>1</td>\n",
       "      <td>1</td>\n",
       "      <td>1</td>\n",
       "      <td>1</td>\n",
       "      <td>A</td>\n",
       "      <td>A</td>\n",
       "      <td>C</td>\n",
       "      <td>A</td>\n",
       "      <td>B</td>\n",
       "      <td>A</td>\n",
       "      <td>A</td>\n",
       "      <td>C</td>\n",
       "      <td>A</td>\n",
       "    </tr>\n",
       "    <tr>\n",
       "      <th>5</th>\n",
       "      <td>6</td>\n",
       "      <td>a37c99ec251d4f6e8ddbeabadf1c87fdbfddc4d1</td>\n",
       "      <td>2016</td>\n",
       "      <td>2902005</td>\n",
       "      <td>Aracatu</td>\n",
       "      <td>29</td>\n",
       "      <td>BA</td>\n",
       "      <td>18</td>\n",
       "      <td>F</td>\n",
       "      <td>0.0</td>\n",
       "      <td>1</td>\n",
       "      <td>1</td>\n",
       "      <td>2933307.0</td>\n",
       "      <td>Vitória da Conquista</td>\n",
       "      <td>29.0</td>\n",
       "      <td>BA</td>\n",
       "      <td>1</td>\n",
       "      <td>1</td>\n",
       "      <td>1</td>\n",
       "      <td>0</td>\n",
       "      <td>0</td>\n",
       "      <td>0</td>\n",
       "      <td>0</td>\n",
       "      <td>0</td>\n",
       "      <td>0</td>\n",
       "      <td>0</td>\n",
       "      <td>0</td>\n",
       "      <td>0</td>\n",
       "      <td>0</td>\n",
       "      <td>0</td>\n",
       "      <td>0</td>\n",
       "      <td>0</td>\n",
       "      <td>0</td>\n",
       "      <td>0</td>\n",
       "      <td>0</td>\n",
       "      <td>0</td>\n",
       "      <td>0</td>\n",
       "      <td>0</td>\n",
       "      <td>0</td>\n",
       "      <td>0</td>\n",
       "      <td>...</td>\n",
       "      <td>D</td>\n",
       "      <td>F</td>\n",
       "      <td>5</td>\n",
       "      <td>C</td>\n",
       "      <td>A</td>\n",
       "      <td>C</td>\n",
       "      <td>D</td>\n",
       "      <td>B</td>\n",
       "      <td>B</td>\n",
       "      <td>B</td>\n",
       "      <td>B</td>\n",
       "      <td>A</td>\n",
       "      <td>A</td>\n",
       "      <td>B</td>\n",
       "      <td>A</td>\n",
       "      <td>A</td>\n",
       "      <td>B</td>\n",
       "      <td>B</td>\n",
       "      <td>B</td>\n",
       "      <td>E</td>\n",
       "      <td>A</td>\n",
       "      <td>B</td>\n",
       "      <td>B</td>\n",
       "      <td>A</td>\n",
       "      <td>4</td>\n",
       "      <td>5</td>\n",
       "      <td>5</td>\n",
       "      <td>5</td>\n",
       "      <td>5</td>\n",
       "      <td>5</td>\n",
       "      <td>5</td>\n",
       "      <td>A</td>\n",
       "      <td>A</td>\n",
       "      <td>A</td>\n",
       "      <td>A</td>\n",
       "      <td>A</td>\n",
       "      <td>A</td>\n",
       "      <td>A</td>\n",
       "      <td>A</td>\n",
       "      <td>A</td>\n",
       "    </tr>\n",
       "    <tr>\n",
       "      <th>6</th>\n",
       "      <td>7</td>\n",
       "      <td>63b4e128e9ffe8ab27f5d093db1976ef4f353e0a</td>\n",
       "      <td>2016</td>\n",
       "      <td>5102637</td>\n",
       "      <td>Campo Novo do Parecis</td>\n",
       "      <td>51</td>\n",
       "      <td>MT</td>\n",
       "      <td>18</td>\n",
       "      <td>F</td>\n",
       "      <td>0.0</td>\n",
       "      <td>3</td>\n",
       "      <td>1</td>\n",
       "      <td>2804508.0</td>\n",
       "      <td>Nossa Senhora da Glória</td>\n",
       "      <td>28.0</td>\n",
       "      <td>SE</td>\n",
       "      <td>2</td>\n",
       "      <td>0</td>\n",
       "      <td>2</td>\n",
       "      <td>0</td>\n",
       "      <td>0</td>\n",
       "      <td>0</td>\n",
       "      <td>0</td>\n",
       "      <td>0</td>\n",
       "      <td>0</td>\n",
       "      <td>0</td>\n",
       "      <td>0</td>\n",
       "      <td>0</td>\n",
       "      <td>0</td>\n",
       "      <td>0</td>\n",
       "      <td>0</td>\n",
       "      <td>0</td>\n",
       "      <td>0</td>\n",
       "      <td>0</td>\n",
       "      <td>0</td>\n",
       "      <td>0</td>\n",
       "      <td>0</td>\n",
       "      <td>0</td>\n",
       "      <td>0</td>\n",
       "      <td>0</td>\n",
       "      <td>...</td>\n",
       "      <td>D</td>\n",
       "      <td>A</td>\n",
       "      <td>3</td>\n",
       "      <td>C</td>\n",
       "      <td>A</td>\n",
       "      <td>C</td>\n",
       "      <td>D</td>\n",
       "      <td>C</td>\n",
       "      <td>A</td>\n",
       "      <td>B</td>\n",
       "      <td>A</td>\n",
       "      <td>B</td>\n",
       "      <td>A</td>\n",
       "      <td>B</td>\n",
       "      <td>A</td>\n",
       "      <td>B</td>\n",
       "      <td>A</td>\n",
       "      <td>A</td>\n",
       "      <td>A</td>\n",
       "      <td>D</td>\n",
       "      <td>A</td>\n",
       "      <td>B</td>\n",
       "      <td>B</td>\n",
       "      <td>C</td>\n",
       "      <td>5</td>\n",
       "      <td>5</td>\n",
       "      <td>2</td>\n",
       "      <td>5</td>\n",
       "      <td>2</td>\n",
       "      <td>0</td>\n",
       "      <td>2</td>\n",
       "      <td>A</td>\n",
       "      <td>A</td>\n",
       "      <td>A</td>\n",
       "      <td>B</td>\n",
       "      <td>B</td>\n",
       "      <td>A</td>\n",
       "      <td>A</td>\n",
       "      <td>A</td>\n",
       "      <td>A</td>\n",
       "    </tr>\n",
       "    <tr>\n",
       "      <th>7</th>\n",
       "      <td>8</td>\n",
       "      <td>2eb189d4912f64b19d1967e8e84b6141aba18770</td>\n",
       "      <td>2016</td>\n",
       "      <td>4301602</td>\n",
       "      <td>Bagé</td>\n",
       "      <td>43</td>\n",
       "      <td>RS</td>\n",
       "      <td>18</td>\n",
       "      <td>F</td>\n",
       "      <td>0.0</td>\n",
       "      <td>1</td>\n",
       "      <td>1</td>\n",
       "      <td>3550308.0</td>\n",
       "      <td>São Paulo</td>\n",
       "      <td>35.0</td>\n",
       "      <td>SP</td>\n",
       "      <td>1</td>\n",
       "      <td>1</td>\n",
       "      <td>1</td>\n",
       "      <td>0</td>\n",
       "      <td>0</td>\n",
       "      <td>0</td>\n",
       "      <td>0</td>\n",
       "      <td>0</td>\n",
       "      <td>0</td>\n",
       "      <td>0</td>\n",
       "      <td>0</td>\n",
       "      <td>0</td>\n",
       "      <td>0</td>\n",
       "      <td>0</td>\n",
       "      <td>0</td>\n",
       "      <td>0</td>\n",
       "      <td>0</td>\n",
       "      <td>0</td>\n",
       "      <td>0</td>\n",
       "      <td>0</td>\n",
       "      <td>0</td>\n",
       "      <td>0</td>\n",
       "      <td>0</td>\n",
       "      <td>0</td>\n",
       "      <td>...</td>\n",
       "      <td>D</td>\n",
       "      <td>D</td>\n",
       "      <td>4</td>\n",
       "      <td>L</td>\n",
       "      <td>A</td>\n",
       "      <td>C</td>\n",
       "      <td>D</td>\n",
       "      <td>B</td>\n",
       "      <td>A</td>\n",
       "      <td>B</td>\n",
       "      <td>B</td>\n",
       "      <td>B</td>\n",
       "      <td>A</td>\n",
       "      <td>B</td>\n",
       "      <td>A</td>\n",
       "      <td>B</td>\n",
       "      <td>C</td>\n",
       "      <td>B</td>\n",
       "      <td>B</td>\n",
       "      <td>D</td>\n",
       "      <td>B</td>\n",
       "      <td>B</td>\n",
       "      <td>B</td>\n",
       "      <td>A</td>\n",
       "      <td>5</td>\n",
       "      <td>5</td>\n",
       "      <td>5</td>\n",
       "      <td>5</td>\n",
       "      <td>1</td>\n",
       "      <td>5</td>\n",
       "      <td>5</td>\n",
       "      <td>C</td>\n",
       "      <td>A</td>\n",
       "      <td>A</td>\n",
       "      <td>A</td>\n",
       "      <td>A</td>\n",
       "      <td>D</td>\n",
       "      <td>A</td>\n",
       "      <td>A</td>\n",
       "      <td>A</td>\n",
       "    </tr>\n",
       "  </tbody>\n",
       "</table>\n",
       "<p>5 rows × 147 columns</p>\n",
       "</div>"
      ],
      "text/plain": [
       "   Unnamed: 0                              NU_INSCRICAO  ...  Q049  Q050\n",
       "0           1  ed50e8aaa58e7a806c337585efee9ca41f1eb1ad  ...     B     D\n",
       "1           2  2c3acac4b33ec2b195d77e7c04a2d75727fad723  ...     C     A\n",
       "5           6  a37c99ec251d4f6e8ddbeabadf1c87fdbfddc4d1  ...     A     A\n",
       "6           7  63b4e128e9ffe8ab27f5d093db1976ef4f353e0a  ...     A     A\n",
       "7           8  2eb189d4912f64b19d1967e8e84b6141aba18770  ...     A     A\n",
       "\n",
       "[5 rows x 147 columns]"
      ]
     },
     "execution_count": 292,
     "metadata": {
      "tags": []
     },
     "output_type": "execute_result"
    }
   ],
   "source": [
    "data_train.head()"
   ]
  },
  {
   "cell_type": "code",
   "execution_count": null,
   "metadata": {
    "colab": {
     "base_uri": "https://localhost:8080/"
    },
    "id": "vV--OXUA_z83",
    "outputId": "2b8ce73e-0a8b-4c37-e884-16bb13c2129c"
   },
   "outputs": [
    {
     "data": {
      "text/html": [
       "<div>\n",
       "<style scoped>\n",
       "    .dataframe tbody tr th:only-of-type {\n",
       "        vertical-align: middle;\n",
       "    }\n",
       "\n",
       "    .dataframe tbody tr th {\n",
       "        vertical-align: top;\n",
       "    }\n",
       "\n",
       "    .dataframe thead th {\n",
       "        text-align: right;\n",
       "    }\n",
       "</style>\n",
       "<table border=\"1\" class=\"dataframe\">\n",
       "  <thead>\n",
       "    <tr style=\"text-align: right;\">\n",
       "      <th></th>\n",
       "      <th>NU_INSCRICAO</th>\n",
       "      <th>CO_UF_RESIDENCIA</th>\n",
       "      <th>SG_UF_RESIDENCIA</th>\n",
       "      <th>NU_IDADE</th>\n",
       "      <th>TP_SEXO</th>\n",
       "      <th>TP_COR_RACA</th>\n",
       "      <th>TP_NACIONALIDADE</th>\n",
       "      <th>TP_ST_CONCLUSAO</th>\n",
       "      <th>TP_ANO_CONCLUIU</th>\n",
       "      <th>TP_ESCOLA</th>\n",
       "      <th>IN_TREINEIRO</th>\n",
       "      <th>IN_BAIXA_VISAO</th>\n",
       "      <th>IN_CEGUEIRA</th>\n",
       "      <th>IN_SURDEZ</th>\n",
       "      <th>IN_DISLEXIA</th>\n",
       "      <th>IN_DISCALCULIA</th>\n",
       "      <th>IN_SABATISTA</th>\n",
       "      <th>IN_GESTANTE</th>\n",
       "      <th>IN_IDOSO</th>\n",
       "      <th>TP_PRESENCA_CN</th>\n",
       "      <th>TP_PRESENCA_CH</th>\n",
       "      <th>TP_PRESENCA_LC</th>\n",
       "      <th>CO_PROVA_CN</th>\n",
       "      <th>CO_PROVA_CH</th>\n",
       "      <th>CO_PROVA_LC</th>\n",
       "      <th>CO_PROVA_MT</th>\n",
       "      <th>NU_NOTA_CN</th>\n",
       "      <th>NU_NOTA_CH</th>\n",
       "      <th>NU_NOTA_LC</th>\n",
       "      <th>TP_LINGUA</th>\n",
       "      <th>TP_STATUS_REDACAO</th>\n",
       "      <th>NU_NOTA_COMP1</th>\n",
       "      <th>NU_NOTA_COMP2</th>\n",
       "      <th>NU_NOTA_COMP3</th>\n",
       "      <th>NU_NOTA_COMP4</th>\n",
       "      <th>NU_NOTA_COMP5</th>\n",
       "      <th>NU_NOTA_REDACAO</th>\n",
       "      <th>Q001</th>\n",
       "      <th>Q002</th>\n",
       "      <th>Q006</th>\n",
       "      <th>Q024</th>\n",
       "      <th>Q025</th>\n",
       "      <th>Q026</th>\n",
       "      <th>Q047</th>\n",
       "    </tr>\n",
       "  </thead>\n",
       "  <tbody>\n",
       "    <tr>\n",
       "      <th>0</th>\n",
       "      <td>73ff9fcc02f0a99919906c942c2e1a1042cdcf98</td>\n",
       "      <td>41</td>\n",
       "      <td>PR</td>\n",
       "      <td>22</td>\n",
       "      <td>F</td>\n",
       "      <td>3</td>\n",
       "      <td>1</td>\n",
       "      <td>1</td>\n",
       "      <td>5</td>\n",
       "      <td>1</td>\n",
       "      <td>0</td>\n",
       "      <td>0</td>\n",
       "      <td>0</td>\n",
       "      <td>0</td>\n",
       "      <td>0</td>\n",
       "      <td>0</td>\n",
       "      <td>0</td>\n",
       "      <td>0</td>\n",
       "      <td>0</td>\n",
       "      <td>1</td>\n",
       "      <td>1</td>\n",
       "      <td>1</td>\n",
       "      <td>16f84b7b3d2aeaff7d2f01297e6b3d0e25c77bb2</td>\n",
       "      <td>9cd70f1b922e02bd33453b3f607f5a644fb9b1b8</td>\n",
       "      <td>01abbb7f1a90505385f44eec9905f82ca2a42cfd</td>\n",
       "      <td>81d0ee00ef42a7c23eb04496458c03d4c5b9c31a</td>\n",
       "      <td>464.8</td>\n",
       "      <td>443.5</td>\n",
       "      <td>431.8</td>\n",
       "      <td>0</td>\n",
       "      <td>1.0</td>\n",
       "      <td>120.0</td>\n",
       "      <td>80.0</td>\n",
       "      <td>80.0</td>\n",
       "      <td>100.0</td>\n",
       "      <td>40.0</td>\n",
       "      <td>420.0</td>\n",
       "      <td>B</td>\n",
       "      <td>A</td>\n",
       "      <td>C</td>\n",
       "      <td>A</td>\n",
       "      <td>A</td>\n",
       "      <td>C</td>\n",
       "      <td>A</td>\n",
       "    </tr>\n",
       "    <tr>\n",
       "      <th>1</th>\n",
       "      <td>71a95f9f1b91a82c65ad94abbdf9f54e6066f968</td>\n",
       "      <td>21</td>\n",
       "      <td>MA</td>\n",
       "      <td>26</td>\n",
       "      <td>F</td>\n",
       "      <td>3</td>\n",
       "      <td>1</td>\n",
       "      <td>1</td>\n",
       "      <td>8</td>\n",
       "      <td>1</td>\n",
       "      <td>0</td>\n",
       "      <td>0</td>\n",
       "      <td>0</td>\n",
       "      <td>0</td>\n",
       "      <td>0</td>\n",
       "      <td>0</td>\n",
       "      <td>0</td>\n",
       "      <td>0</td>\n",
       "      <td>0</td>\n",
       "      <td>1</td>\n",
       "      <td>1</td>\n",
       "      <td>1</td>\n",
       "      <td>c8328ebc6f3238e06076c481bc1b82b8301e7a3f</td>\n",
       "      <td>f48d390ab6a2428e659c37fb8a9d00afde621889</td>\n",
       "      <td>72f80e4b3150c627c7ffc93cfe0fa13a9989b610</td>\n",
       "      <td>577f8968d95046f5eb5cc158608e12fa9ba34c85</td>\n",
       "      <td>391.1</td>\n",
       "      <td>491.1</td>\n",
       "      <td>548.0</td>\n",
       "      <td>1</td>\n",
       "      <td>1.0</td>\n",
       "      <td>120.0</td>\n",
       "      <td>120.0</td>\n",
       "      <td>120.0</td>\n",
       "      <td>120.0</td>\n",
       "      <td>100.0</td>\n",
       "      <td>580.0</td>\n",
       "      <td>E</td>\n",
       "      <td>B</td>\n",
       "      <td>C</td>\n",
       "      <td>B</td>\n",
       "      <td>B</td>\n",
       "      <td>B</td>\n",
       "      <td>A</td>\n",
       "    </tr>\n",
       "    <tr>\n",
       "      <th>2</th>\n",
       "      <td>b38a03232f43b11c9d0788abaf060f7366053b6d</td>\n",
       "      <td>23</td>\n",
       "      <td>CE</td>\n",
       "      <td>21</td>\n",
       "      <td>M</td>\n",
       "      <td>1</td>\n",
       "      <td>1</td>\n",
       "      <td>2</td>\n",
       "      <td>0</td>\n",
       "      <td>2</td>\n",
       "      <td>0</td>\n",
       "      <td>0</td>\n",
       "      <td>0</td>\n",
       "      <td>0</td>\n",
       "      <td>0</td>\n",
       "      <td>0</td>\n",
       "      <td>0</td>\n",
       "      <td>0</td>\n",
       "      <td>0</td>\n",
       "      <td>1</td>\n",
       "      <td>1</td>\n",
       "      <td>1</td>\n",
       "      <td>16f84b7b3d2aeaff7d2f01297e6b3d0e25c77bb2</td>\n",
       "      <td>9cd70f1b922e02bd33453b3f607f5a644fb9b1b8</td>\n",
       "      <td>01af53cd161a420fff1767129c10de560cc264dd</td>\n",
       "      <td>97caab1e1533dba217deb7ef41490f52e459ab01</td>\n",
       "      <td>595.9</td>\n",
       "      <td>622.7</td>\n",
       "      <td>613.6</td>\n",
       "      <td>0</td>\n",
       "      <td>1.0</td>\n",
       "      <td>80.0</td>\n",
       "      <td>40.0</td>\n",
       "      <td>40.0</td>\n",
       "      <td>80.0</td>\n",
       "      <td>80.0</td>\n",
       "      <td>320.0</td>\n",
       "      <td>E</td>\n",
       "      <td>E</td>\n",
       "      <td>D</td>\n",
       "      <td>B</td>\n",
       "      <td>B</td>\n",
       "      <td>A</td>\n",
       "      <td>A</td>\n",
       "    </tr>\n",
       "    <tr>\n",
       "      <th>4</th>\n",
       "      <td>715494628a50142ce8cb17191cfe6d0f3cae0934</td>\n",
       "      <td>41</td>\n",
       "      <td>PR</td>\n",
       "      <td>18</td>\n",
       "      <td>M</td>\n",
       "      <td>1</td>\n",
       "      <td>1</td>\n",
       "      <td>2</td>\n",
       "      <td>0</td>\n",
       "      <td>2</td>\n",
       "      <td>0</td>\n",
       "      <td>0</td>\n",
       "      <td>0</td>\n",
       "      <td>0</td>\n",
       "      <td>0</td>\n",
       "      <td>0</td>\n",
       "      <td>0</td>\n",
       "      <td>0</td>\n",
       "      <td>0</td>\n",
       "      <td>1</td>\n",
       "      <td>1</td>\n",
       "      <td>1</td>\n",
       "      <td>66b1dad288e13be0992bae01e81f71eca1c6e8a6</td>\n",
       "      <td>942ab3dc020af4cf53740b6b07e9dd7060b24164</td>\n",
       "      <td>5aebe5cad7fabc1545ac7fba07a4e6177f98483c</td>\n",
       "      <td>767a32545304ed293242d528f54d4edb1369f910</td>\n",
       "      <td>592.9</td>\n",
       "      <td>492.6</td>\n",
       "      <td>571.4</td>\n",
       "      <td>1</td>\n",
       "      <td>1.0</td>\n",
       "      <td>100.0</td>\n",
       "      <td>80.0</td>\n",
       "      <td>60.0</td>\n",
       "      <td>80.0</td>\n",
       "      <td>0.0</td>\n",
       "      <td>320.0</td>\n",
       "      <td>D</td>\n",
       "      <td>H</td>\n",
       "      <td>H</td>\n",
       "      <td>C</td>\n",
       "      <td>B</td>\n",
       "      <td>A</td>\n",
       "      <td>A</td>\n",
       "    </tr>\n",
       "    <tr>\n",
       "      <th>5</th>\n",
       "      <td>e656d6bad65c93fb2880f1eba5037008c8e75774</td>\n",
       "      <td>43</td>\n",
       "      <td>RS</td>\n",
       "      <td>18</td>\n",
       "      <td>M</td>\n",
       "      <td>3</td>\n",
       "      <td>1</td>\n",
       "      <td>1</td>\n",
       "      <td>1</td>\n",
       "      <td>1</td>\n",
       "      <td>0</td>\n",
       "      <td>0</td>\n",
       "      <td>0</td>\n",
       "      <td>0</td>\n",
       "      <td>0</td>\n",
       "      <td>0</td>\n",
       "      <td>0</td>\n",
       "      <td>0</td>\n",
       "      <td>0</td>\n",
       "      <td>1</td>\n",
       "      <td>1</td>\n",
       "      <td>1</td>\n",
       "      <td>b9b06ce8c319a3df2158ea3d0aef0f7d3eecaed7</td>\n",
       "      <td>909237ab0d84688e10c0470e2997348aff585273</td>\n",
       "      <td>72f80e4b3150c627c7ffc93cfe0fa13a9989b610</td>\n",
       "      <td>577f8968d95046f5eb5cc158608e12fa9ba34c85</td>\n",
       "      <td>414.5</td>\n",
       "      <td>568.5</td>\n",
       "      <td>542.5</td>\n",
       "      <td>1</td>\n",
       "      <td>1.0</td>\n",
       "      <td>120.0</td>\n",
       "      <td>120.0</td>\n",
       "      <td>120.0</td>\n",
       "      <td>120.0</td>\n",
       "      <td>80.0</td>\n",
       "      <td>560.0</td>\n",
       "      <td>E</td>\n",
       "      <td>E</td>\n",
       "      <td>C</td>\n",
       "      <td>B</td>\n",
       "      <td>B</td>\n",
       "      <td>A</td>\n",
       "      <td>A</td>\n",
       "    </tr>\n",
       "  </tbody>\n",
       "</table>\n",
       "</div>"
      ],
      "text/plain": [
       "                               NU_INSCRICAO  CO_UF_RESIDENCIA  ... Q026  Q047\n",
       "0  73ff9fcc02f0a99919906c942c2e1a1042cdcf98                41  ...    C     A\n",
       "1  71a95f9f1b91a82c65ad94abbdf9f54e6066f968                21  ...    B     A\n",
       "2  b38a03232f43b11c9d0788abaf060f7366053b6d                23  ...    A     A\n",
       "4  715494628a50142ce8cb17191cfe6d0f3cae0934                41  ...    A     A\n",
       "5  e656d6bad65c93fb2880f1eba5037008c8e75774                43  ...    A     A\n",
       "\n",
       "[5 rows x 44 columns]"
      ]
     },
     "execution_count": 293,
     "metadata": {
      "tags": []
     },
     "output_type": "execute_result"
    }
   ],
   "source": [
    "data_test.head()"
   ]
  },
  {
   "cell_type": "code",
   "execution_count": null,
   "metadata": {
    "colab": {
     "base_uri": "https://localhost:8080/"
    },
    "id": "TrH24V-b_z84",
    "outputId": "8e0b3c6b-4ab9-4fae-daf1-ee112b00ef52"
   },
   "outputs": [
    {
     "data": {
      "text/html": [
       "<div>\n",
       "<style scoped>\n",
       "    .dataframe tbody tr th:only-of-type {\n",
       "        vertical-align: middle;\n",
       "    }\n",
       "\n",
       "    .dataframe tbody tr th {\n",
       "        vertical-align: top;\n",
       "    }\n",
       "\n",
       "    .dataframe thead th {\n",
       "        text-align: right;\n",
       "    }\n",
       "</style>\n",
       "<table border=\"1\" class=\"dataframe\">\n",
       "  <thead>\n",
       "    <tr style=\"text-align: right;\">\n",
       "      <th></th>\n",
       "      <th>Unnamed: 0</th>\n",
       "      <th>NU_ANO</th>\n",
       "      <th>CO_MUNICIPIO_RESIDENCIA</th>\n",
       "      <th>CO_UF_RESIDENCIA</th>\n",
       "      <th>NU_IDADE</th>\n",
       "      <th>TP_ESTADO_CIVIL</th>\n",
       "      <th>TP_COR_RACA</th>\n",
       "      <th>TP_NACIONALIDADE</th>\n",
       "      <th>CO_MUNICIPIO_NASCIMENTO</th>\n",
       "      <th>CO_UF_NASCIMENTO</th>\n",
       "      <th>TP_ST_CONCLUSAO</th>\n",
       "      <th>TP_ANO_CONCLUIU</th>\n",
       "      <th>TP_ESCOLA</th>\n",
       "      <th>IN_TREINEIRO</th>\n",
       "      <th>IN_BAIXA_VISAO</th>\n",
       "      <th>IN_CEGUEIRA</th>\n",
       "      <th>IN_SURDEZ</th>\n",
       "      <th>IN_DEFICIENCIA_AUDITIVA</th>\n",
       "      <th>IN_SURDO_CEGUEIRA</th>\n",
       "      <th>IN_DEFICIENCIA_FISICA</th>\n",
       "      <th>IN_DEFICIENCIA_MENTAL</th>\n",
       "      <th>IN_DEFICIT_ATENCAO</th>\n",
       "      <th>IN_DISLEXIA</th>\n",
       "      <th>IN_DISCALCULIA</th>\n",
       "      <th>IN_AUTISMO</th>\n",
       "      <th>IN_VISAO_MONOCULAR</th>\n",
       "      <th>IN_OUTRA_DEF</th>\n",
       "      <th>IN_SABATISTA</th>\n",
       "      <th>IN_GESTANTE</th>\n",
       "      <th>IN_LACTANTE</th>\n",
       "      <th>IN_IDOSO</th>\n",
       "      <th>IN_ESTUDA_CLASSE_HOSPITALAR</th>\n",
       "      <th>IN_SEM_RECURSO</th>\n",
       "      <th>IN_BRAILLE</th>\n",
       "      <th>IN_AMPLIADA_24</th>\n",
       "      <th>IN_AMPLIADA_18</th>\n",
       "      <th>IN_LEDOR</th>\n",
       "      <th>IN_ACESSO</th>\n",
       "      <th>IN_TRANSCRICAO</th>\n",
       "      <th>IN_LIBRAS</th>\n",
       "      <th>...</th>\n",
       "      <th>IN_PROTETOR_AURICULAR</th>\n",
       "      <th>IN_MEDIDOR_GLICOSE</th>\n",
       "      <th>IN_MAQUINA_BRAILE</th>\n",
       "      <th>IN_SOROBAN</th>\n",
       "      <th>IN_MARCA_PASSO</th>\n",
       "      <th>IN_SONDA</th>\n",
       "      <th>IN_MEDICAMENTOS</th>\n",
       "      <th>IN_SALA_INDIVIDUAL</th>\n",
       "      <th>IN_SALA_ESPECIAL</th>\n",
       "      <th>IN_SALA_ACOMPANHANTE</th>\n",
       "      <th>IN_MOBILIARIO_ESPECIFICO</th>\n",
       "      <th>IN_MATERIAL_ESPECIFICO</th>\n",
       "      <th>IN_NOME_SOCIAL</th>\n",
       "      <th>IN_CERTIFICADO</th>\n",
       "      <th>CO_MUNICIPIO_PROVA</th>\n",
       "      <th>CO_UF_PROVA</th>\n",
       "      <th>TP_PRESENCA_CN</th>\n",
       "      <th>TP_PRESENCA_CH</th>\n",
       "      <th>TP_PRESENCA_LC</th>\n",
       "      <th>TP_PRESENCA_MT</th>\n",
       "      <th>NU_NOTA_CN</th>\n",
       "      <th>NU_NOTA_CH</th>\n",
       "      <th>NU_NOTA_LC</th>\n",
       "      <th>NU_NOTA_MT</th>\n",
       "      <th>TP_LINGUA</th>\n",
       "      <th>TP_STATUS_REDACAO</th>\n",
       "      <th>NU_NOTA_COMP1</th>\n",
       "      <th>NU_NOTA_COMP2</th>\n",
       "      <th>NU_NOTA_COMP3</th>\n",
       "      <th>NU_NOTA_COMP4</th>\n",
       "      <th>NU_NOTA_COMP5</th>\n",
       "      <th>NU_NOTA_REDACAO</th>\n",
       "      <th>Q005</th>\n",
       "      <th>Q034</th>\n",
       "      <th>Q035</th>\n",
       "      <th>Q036</th>\n",
       "      <th>Q037</th>\n",
       "      <th>Q038</th>\n",
       "      <th>Q039</th>\n",
       "      <th>Q040</th>\n",
       "    </tr>\n",
       "  </thead>\n",
       "  <tbody>\n",
       "    <tr>\n",
       "      <th>count</th>\n",
       "      <td>9385.000000</td>\n",
       "      <td>9385.0</td>\n",
       "      <td>9.385000e+03</td>\n",
       "      <td>9385.000000</td>\n",
       "      <td>9385.000000</td>\n",
       "      <td>9385.000000</td>\n",
       "      <td>9385.000000</td>\n",
       "      <td>9385.0</td>\n",
       "      <td>9.385000e+03</td>\n",
       "      <td>9385.000000</td>\n",
       "      <td>9385.000000</td>\n",
       "      <td>9385.000000</td>\n",
       "      <td>9385.000000</td>\n",
       "      <td>9385.000000</td>\n",
       "      <td>9385.000000</td>\n",
       "      <td>9385.0</td>\n",
       "      <td>9385.000000</td>\n",
       "      <td>9385.000000</td>\n",
       "      <td>9385.0</td>\n",
       "      <td>9385.000000</td>\n",
       "      <td>9385.000000</td>\n",
       "      <td>9385.000000</td>\n",
       "      <td>9385.000000</td>\n",
       "      <td>9385.000000</td>\n",
       "      <td>9385.0</td>\n",
       "      <td>9385.000000</td>\n",
       "      <td>9385.000000</td>\n",
       "      <td>9385.000000</td>\n",
       "      <td>9385.000000</td>\n",
       "      <td>9385.000000</td>\n",
       "      <td>9385.000000</td>\n",
       "      <td>9385.0</td>\n",
       "      <td>9385.000000</td>\n",
       "      <td>9385.0</td>\n",
       "      <td>9385.000000</td>\n",
       "      <td>9385.000000</td>\n",
       "      <td>9385.000000</td>\n",
       "      <td>9385.000000</td>\n",
       "      <td>9385.000000</td>\n",
       "      <td>9385.000000</td>\n",
       "      <td>...</td>\n",
       "      <td>9385.0</td>\n",
       "      <td>9385.0</td>\n",
       "      <td>9385.0</td>\n",
       "      <td>9385.0</td>\n",
       "      <td>9385.0</td>\n",
       "      <td>9385.0</td>\n",
       "      <td>9385.0</td>\n",
       "      <td>9385.0</td>\n",
       "      <td>9385.0</td>\n",
       "      <td>9385.0</td>\n",
       "      <td>9385.0</td>\n",
       "      <td>9385.0</td>\n",
       "      <td>9385.000000</td>\n",
       "      <td>9385.000000</td>\n",
       "      <td>9.385000e+03</td>\n",
       "      <td>9385.000000</td>\n",
       "      <td>9385.0</td>\n",
       "      <td>9385.0</td>\n",
       "      <td>9385.0</td>\n",
       "      <td>9385.0</td>\n",
       "      <td>9385.000000</td>\n",
       "      <td>9385.000000</td>\n",
       "      <td>9385.000000</td>\n",
       "      <td>9385.000000</td>\n",
       "      <td>9385.000000</td>\n",
       "      <td>9385.000000</td>\n",
       "      <td>9385.000000</td>\n",
       "      <td>9385.000000</td>\n",
       "      <td>9385.000000</td>\n",
       "      <td>9385.000000</td>\n",
       "      <td>9385.000000</td>\n",
       "      <td>9385.000000</td>\n",
       "      <td>9385.000000</td>\n",
       "      <td>9385.000000</td>\n",
       "      <td>9385.000000</td>\n",
       "      <td>9385.000000</td>\n",
       "      <td>9385.000000</td>\n",
       "      <td>9385.000000</td>\n",
       "      <td>9385.000000</td>\n",
       "      <td>9385.000000</td>\n",
       "    </tr>\n",
       "    <tr>\n",
       "      <th>mean</th>\n",
       "      <td>2299.393500</td>\n",
       "      <td>2016.0</td>\n",
       "      <td>3.065778e+06</td>\n",
       "      <td>30.509430</td>\n",
       "      <td>20.461055</td>\n",
       "      <td>0.083644</td>\n",
       "      <td>2.169419</td>\n",
       "      <td>1.0</td>\n",
       "      <td>3.045136e+06</td>\n",
       "      <td>30.300799</td>\n",
       "      <td>1.809270</td>\n",
       "      <td>1.697389</td>\n",
       "      <td>1.416303</td>\n",
       "      <td>0.152477</td>\n",
       "      <td>0.001066</td>\n",
       "      <td>0.0</td>\n",
       "      <td>0.000426</td>\n",
       "      <td>0.000639</td>\n",
       "      <td>0.0</td>\n",
       "      <td>0.001811</td>\n",
       "      <td>0.000213</td>\n",
       "      <td>0.001066</td>\n",
       "      <td>0.000107</td>\n",
       "      <td>0.000107</td>\n",
       "      <td>0.0</td>\n",
       "      <td>0.000533</td>\n",
       "      <td>0.000320</td>\n",
       "      <td>0.009696</td>\n",
       "      <td>0.000426</td>\n",
       "      <td>0.000852</td>\n",
       "      <td>0.000107</td>\n",
       "      <td>0.0</td>\n",
       "      <td>0.003303</td>\n",
       "      <td>0.0</td>\n",
       "      <td>0.000533</td>\n",
       "      <td>0.000746</td>\n",
       "      <td>0.000852</td>\n",
       "      <td>0.001492</td>\n",
       "      <td>0.001066</td>\n",
       "      <td>0.000533</td>\n",
       "      <td>...</td>\n",
       "      <td>0.0</td>\n",
       "      <td>0.0</td>\n",
       "      <td>0.0</td>\n",
       "      <td>0.0</td>\n",
       "      <td>0.0</td>\n",
       "      <td>0.0</td>\n",
       "      <td>0.0</td>\n",
       "      <td>0.0</td>\n",
       "      <td>0.0</td>\n",
       "      <td>0.0</td>\n",
       "      <td>0.0</td>\n",
       "      <td>0.0</td>\n",
       "      <td>0.000320</td>\n",
       "      <td>0.094193</td>\n",
       "      <td>3.062748e+06</td>\n",
       "      <td>30.480874</td>\n",
       "      <td>1.0</td>\n",
       "      <td>1.0</td>\n",
       "      <td>1.0</td>\n",
       "      <td>1.0</td>\n",
       "      <td>474.807469</td>\n",
       "      <td>531.403910</td>\n",
       "      <td>517.533436</td>\n",
       "      <td>483.874576</td>\n",
       "      <td>0.574534</td>\n",
       "      <td>1.099947</td>\n",
       "      <td>120.190943</td>\n",
       "      <td>112.443687</td>\n",
       "      <td>107.308471</td>\n",
       "      <td>113.637187</td>\n",
       "      <td>77.915290</td>\n",
       "      <td>531.495578</td>\n",
       "      <td>4.119339</td>\n",
       "      <td>4.655834</td>\n",
       "      <td>4.699201</td>\n",
       "      <td>3.300266</td>\n",
       "      <td>4.429728</td>\n",
       "      <td>3.690890</td>\n",
       "      <td>3.531913</td>\n",
       "      <td>4.425999</td>\n",
       "    </tr>\n",
       "    <tr>\n",
       "      <th>std</th>\n",
       "      <td>1315.848462</td>\n",
       "      <td>0.0</td>\n",
       "      <td>9.801330e+05</td>\n",
       "      <td>9.771753</td>\n",
       "      <td>6.294458</td>\n",
       "      <td>0.312318</td>\n",
       "      <td>0.997472</td>\n",
       "      <td>0.0</td>\n",
       "      <td>9.657512e+05</td>\n",
       "      <td>9.623573</td>\n",
       "      <td>0.823164</td>\n",
       "      <td>2.858010</td>\n",
       "      <td>0.593416</td>\n",
       "      <td>0.359502</td>\n",
       "      <td>0.032627</td>\n",
       "      <td>0.0</td>\n",
       "      <td>0.020642</td>\n",
       "      <td>0.025278</td>\n",
       "      <td>0.0</td>\n",
       "      <td>0.042524</td>\n",
       "      <td>0.014597</td>\n",
       "      <td>0.032627</td>\n",
       "      <td>0.010322</td>\n",
       "      <td>0.010322</td>\n",
       "      <td>0.0</td>\n",
       "      <td>0.023077</td>\n",
       "      <td>0.017877</td>\n",
       "      <td>0.097997</td>\n",
       "      <td>0.020642</td>\n",
       "      <td>0.029185</td>\n",
       "      <td>0.010322</td>\n",
       "      <td>0.0</td>\n",
       "      <td>0.057381</td>\n",
       "      <td>0.0</td>\n",
       "      <td>0.023077</td>\n",
       "      <td>0.027302</td>\n",
       "      <td>0.029185</td>\n",
       "      <td>0.038596</td>\n",
       "      <td>0.032627</td>\n",
       "      <td>0.023077</td>\n",
       "      <td>...</td>\n",
       "      <td>0.0</td>\n",
       "      <td>0.0</td>\n",
       "      <td>0.0</td>\n",
       "      <td>0.0</td>\n",
       "      <td>0.0</td>\n",
       "      <td>0.0</td>\n",
       "      <td>0.0</td>\n",
       "      <td>0.0</td>\n",
       "      <td>0.0</td>\n",
       "      <td>0.0</td>\n",
       "      <td>0.0</td>\n",
       "      <td>0.0</td>\n",
       "      <td>0.017877</td>\n",
       "      <td>0.292112</td>\n",
       "      <td>9.796513e+05</td>\n",
       "      <td>9.766481</td>\n",
       "      <td>0.0</td>\n",
       "      <td>0.0</td>\n",
       "      <td>0.0</td>\n",
       "      <td>0.0</td>\n",
       "      <td>71.405651</td>\n",
       "      <td>73.515952</td>\n",
       "      <td>68.559499</td>\n",
       "      <td>100.311970</td>\n",
       "      <td>0.494440</td>\n",
       "      <td>0.694812</td>\n",
       "      <td>29.773670</td>\n",
       "      <td>33.764338</td>\n",
       "      <td>34.372282</td>\n",
       "      <td>33.482541</td>\n",
       "      <td>43.218486</td>\n",
       "      <td>154.407751</td>\n",
       "      <td>1.547292</td>\n",
       "      <td>0.904801</td>\n",
       "      <td>0.825314</td>\n",
       "      <td>1.712743</td>\n",
       "      <td>1.216885</td>\n",
       "      <td>1.686548</td>\n",
       "      <td>1.692805</td>\n",
       "      <td>1.188215</td>\n",
       "    </tr>\n",
       "    <tr>\n",
       "      <th>min</th>\n",
       "      <td>1.000000</td>\n",
       "      <td>2016.0</td>\n",
       "      <td>1.100023e+06</td>\n",
       "      <td>11.000000</td>\n",
       "      <td>13.000000</td>\n",
       "      <td>0.000000</td>\n",
       "      <td>0.000000</td>\n",
       "      <td>1.0</td>\n",
       "      <td>1.100023e+06</td>\n",
       "      <td>11.000000</td>\n",
       "      <td>1.000000</td>\n",
       "      <td>0.000000</td>\n",
       "      <td>1.000000</td>\n",
       "      <td>0.000000</td>\n",
       "      <td>0.000000</td>\n",
       "      <td>0.0</td>\n",
       "      <td>0.000000</td>\n",
       "      <td>0.000000</td>\n",
       "      <td>0.0</td>\n",
       "      <td>0.000000</td>\n",
       "      <td>0.000000</td>\n",
       "      <td>0.000000</td>\n",
       "      <td>0.000000</td>\n",
       "      <td>0.000000</td>\n",
       "      <td>0.0</td>\n",
       "      <td>0.000000</td>\n",
       "      <td>0.000000</td>\n",
       "      <td>0.000000</td>\n",
       "      <td>0.000000</td>\n",
       "      <td>0.000000</td>\n",
       "      <td>0.000000</td>\n",
       "      <td>0.0</td>\n",
       "      <td>0.000000</td>\n",
       "      <td>0.0</td>\n",
       "      <td>0.000000</td>\n",
       "      <td>0.000000</td>\n",
       "      <td>0.000000</td>\n",
       "      <td>0.000000</td>\n",
       "      <td>0.000000</td>\n",
       "      <td>0.000000</td>\n",
       "      <td>...</td>\n",
       "      <td>0.0</td>\n",
       "      <td>0.0</td>\n",
       "      <td>0.0</td>\n",
       "      <td>0.0</td>\n",
       "      <td>0.0</td>\n",
       "      <td>0.0</td>\n",
       "      <td>0.0</td>\n",
       "      <td>0.0</td>\n",
       "      <td>0.0</td>\n",
       "      <td>0.0</td>\n",
       "      <td>0.0</td>\n",
       "      <td>0.0</td>\n",
       "      <td>0.000000</td>\n",
       "      <td>0.000000</td>\n",
       "      <td>1.100023e+06</td>\n",
       "      <td>11.000000</td>\n",
       "      <td>1.0</td>\n",
       "      <td>1.0</td>\n",
       "      <td>1.0</td>\n",
       "      <td>1.0</td>\n",
       "      <td>0.000000</td>\n",
       "      <td>0.000000</td>\n",
       "      <td>0.000000</td>\n",
       "      <td>0.000000</td>\n",
       "      <td>0.000000</td>\n",
       "      <td>1.000000</td>\n",
       "      <td>0.000000</td>\n",
       "      <td>0.000000</td>\n",
       "      <td>0.000000</td>\n",
       "      <td>0.000000</td>\n",
       "      <td>0.000000</td>\n",
       "      <td>0.000000</td>\n",
       "      <td>1.000000</td>\n",
       "      <td>0.000000</td>\n",
       "      <td>0.000000</td>\n",
       "      <td>0.000000</td>\n",
       "      <td>0.000000</td>\n",
       "      <td>0.000000</td>\n",
       "      <td>0.000000</td>\n",
       "      <td>0.000000</td>\n",
       "    </tr>\n",
       "    <tr>\n",
       "      <th>25%</th>\n",
       "      <td>1166.000000</td>\n",
       "      <td>2016.0</td>\n",
       "      <td>2.307304e+06</td>\n",
       "      <td>23.000000</td>\n",
       "      <td>17.000000</td>\n",
       "      <td>0.000000</td>\n",
       "      <td>1.000000</td>\n",
       "      <td>1.0</td>\n",
       "      <td>2.306405e+06</td>\n",
       "      <td>23.000000</td>\n",
       "      <td>1.000000</td>\n",
       "      <td>0.000000</td>\n",
       "      <td>1.000000</td>\n",
       "      <td>0.000000</td>\n",
       "      <td>0.000000</td>\n",
       "      <td>0.0</td>\n",
       "      <td>0.000000</td>\n",
       "      <td>0.000000</td>\n",
       "      <td>0.0</td>\n",
       "      <td>0.000000</td>\n",
       "      <td>0.000000</td>\n",
       "      <td>0.000000</td>\n",
       "      <td>0.000000</td>\n",
       "      <td>0.000000</td>\n",
       "      <td>0.0</td>\n",
       "      <td>0.000000</td>\n",
       "      <td>0.000000</td>\n",
       "      <td>0.000000</td>\n",
       "      <td>0.000000</td>\n",
       "      <td>0.000000</td>\n",
       "      <td>0.000000</td>\n",
       "      <td>0.0</td>\n",
       "      <td>0.000000</td>\n",
       "      <td>0.0</td>\n",
       "      <td>0.000000</td>\n",
       "      <td>0.000000</td>\n",
       "      <td>0.000000</td>\n",
       "      <td>0.000000</td>\n",
       "      <td>0.000000</td>\n",
       "      <td>0.000000</td>\n",
       "      <td>...</td>\n",
       "      <td>0.0</td>\n",
       "      <td>0.0</td>\n",
       "      <td>0.0</td>\n",
       "      <td>0.0</td>\n",
       "      <td>0.0</td>\n",
       "      <td>0.0</td>\n",
       "      <td>0.0</td>\n",
       "      <td>0.0</td>\n",
       "      <td>0.0</td>\n",
       "      <td>0.0</td>\n",
       "      <td>0.0</td>\n",
       "      <td>0.0</td>\n",
       "      <td>0.000000</td>\n",
       "      <td>0.000000</td>\n",
       "      <td>2.307304e+06</td>\n",
       "      <td>23.000000</td>\n",
       "      <td>1.0</td>\n",
       "      <td>1.0</td>\n",
       "      <td>1.0</td>\n",
       "      <td>1.0</td>\n",
       "      <td>420.600000</td>\n",
       "      <td>481.900000</td>\n",
       "      <td>469.400000</td>\n",
       "      <td>409.900000</td>\n",
       "      <td>0.000000</td>\n",
       "      <td>1.000000</td>\n",
       "      <td>120.000000</td>\n",
       "      <td>100.000000</td>\n",
       "      <td>80.000000</td>\n",
       "      <td>100.000000</td>\n",
       "      <td>40.000000</td>\n",
       "      <td>460.000000</td>\n",
       "      <td>3.000000</td>\n",
       "      <td>5.000000</td>\n",
       "      <td>5.000000</td>\n",
       "      <td>2.000000</td>\n",
       "      <td>5.000000</td>\n",
       "      <td>3.000000</td>\n",
       "      <td>2.000000</td>\n",
       "      <td>4.000000</td>\n",
       "    </tr>\n",
       "    <tr>\n",
       "      <th>50%</th>\n",
       "      <td>2310.000000</td>\n",
       "      <td>2016.0</td>\n",
       "      <td>3.106200e+06</td>\n",
       "      <td>31.000000</td>\n",
       "      <td>18.000000</td>\n",
       "      <td>0.000000</td>\n",
       "      <td>3.000000</td>\n",
       "      <td>1.0</td>\n",
       "      <td>3.106200e+06</td>\n",
       "      <td>31.000000</td>\n",
       "      <td>2.000000</td>\n",
       "      <td>0.000000</td>\n",
       "      <td>1.000000</td>\n",
       "      <td>0.000000</td>\n",
       "      <td>0.000000</td>\n",
       "      <td>0.0</td>\n",
       "      <td>0.000000</td>\n",
       "      <td>0.000000</td>\n",
       "      <td>0.0</td>\n",
       "      <td>0.000000</td>\n",
       "      <td>0.000000</td>\n",
       "      <td>0.000000</td>\n",
       "      <td>0.000000</td>\n",
       "      <td>0.000000</td>\n",
       "      <td>0.0</td>\n",
       "      <td>0.000000</td>\n",
       "      <td>0.000000</td>\n",
       "      <td>0.000000</td>\n",
       "      <td>0.000000</td>\n",
       "      <td>0.000000</td>\n",
       "      <td>0.000000</td>\n",
       "      <td>0.0</td>\n",
       "      <td>0.000000</td>\n",
       "      <td>0.0</td>\n",
       "      <td>0.000000</td>\n",
       "      <td>0.000000</td>\n",
       "      <td>0.000000</td>\n",
       "      <td>0.000000</td>\n",
       "      <td>0.000000</td>\n",
       "      <td>0.000000</td>\n",
       "      <td>...</td>\n",
       "      <td>0.0</td>\n",
       "      <td>0.0</td>\n",
       "      <td>0.0</td>\n",
       "      <td>0.0</td>\n",
       "      <td>0.0</td>\n",
       "      <td>0.0</td>\n",
       "      <td>0.0</td>\n",
       "      <td>0.0</td>\n",
       "      <td>0.0</td>\n",
       "      <td>0.0</td>\n",
       "      <td>0.0</td>\n",
       "      <td>0.0</td>\n",
       "      <td>0.000000</td>\n",
       "      <td>0.000000</td>\n",
       "      <td>3.106200e+06</td>\n",
       "      <td>31.000000</td>\n",
       "      <td>1.0</td>\n",
       "      <td>1.0</td>\n",
       "      <td>1.0</td>\n",
       "      <td>1.0</td>\n",
       "      <td>461.200000</td>\n",
       "      <td>533.700000</td>\n",
       "      <td>521.800000</td>\n",
       "      <td>462.300000</td>\n",
       "      <td>1.000000</td>\n",
       "      <td>1.000000</td>\n",
       "      <td>120.000000</td>\n",
       "      <td>120.000000</td>\n",
       "      <td>120.000000</td>\n",
       "      <td>120.000000</td>\n",
       "      <td>80.000000</td>\n",
       "      <td>540.000000</td>\n",
       "      <td>4.000000</td>\n",
       "      <td>5.000000</td>\n",
       "      <td>5.000000</td>\n",
       "      <td>4.000000</td>\n",
       "      <td>5.000000</td>\n",
       "      <td>5.000000</td>\n",
       "      <td>4.000000</td>\n",
       "      <td>5.000000</td>\n",
       "    </tr>\n",
       "    <tr>\n",
       "      <th>75%</th>\n",
       "      <td>3432.000000</td>\n",
       "      <td>2016.0</td>\n",
       "      <td>3.548708e+06</td>\n",
       "      <td>35.000000</td>\n",
       "      <td>21.000000</td>\n",
       "      <td>0.000000</td>\n",
       "      <td>3.000000</td>\n",
       "      <td>1.0</td>\n",
       "      <td>3.548500e+06</td>\n",
       "      <td>35.000000</td>\n",
       "      <td>2.000000</td>\n",
       "      <td>2.000000</td>\n",
       "      <td>2.000000</td>\n",
       "      <td>0.000000</td>\n",
       "      <td>0.000000</td>\n",
       "      <td>0.0</td>\n",
       "      <td>0.000000</td>\n",
       "      <td>0.000000</td>\n",
       "      <td>0.0</td>\n",
       "      <td>0.000000</td>\n",
       "      <td>0.000000</td>\n",
       "      <td>0.000000</td>\n",
       "      <td>0.000000</td>\n",
       "      <td>0.000000</td>\n",
       "      <td>0.0</td>\n",
       "      <td>0.000000</td>\n",
       "      <td>0.000000</td>\n",
       "      <td>0.000000</td>\n",
       "      <td>0.000000</td>\n",
       "      <td>0.000000</td>\n",
       "      <td>0.000000</td>\n",
       "      <td>0.0</td>\n",
       "      <td>0.000000</td>\n",
       "      <td>0.0</td>\n",
       "      <td>0.000000</td>\n",
       "      <td>0.000000</td>\n",
       "      <td>0.000000</td>\n",
       "      <td>0.000000</td>\n",
       "      <td>0.000000</td>\n",
       "      <td>0.000000</td>\n",
       "      <td>...</td>\n",
       "      <td>0.0</td>\n",
       "      <td>0.0</td>\n",
       "      <td>0.0</td>\n",
       "      <td>0.0</td>\n",
       "      <td>0.0</td>\n",
       "      <td>0.0</td>\n",
       "      <td>0.0</td>\n",
       "      <td>0.0</td>\n",
       "      <td>0.0</td>\n",
       "      <td>0.0</td>\n",
       "      <td>0.0</td>\n",
       "      <td>0.0</td>\n",
       "      <td>0.000000</td>\n",
       "      <td>0.000000</td>\n",
       "      <td>3.547809e+06</td>\n",
       "      <td>35.000000</td>\n",
       "      <td>1.0</td>\n",
       "      <td>1.0</td>\n",
       "      <td>1.0</td>\n",
       "      <td>1.0</td>\n",
       "      <td>516.400000</td>\n",
       "      <td>583.300000</td>\n",
       "      <td>565.800000</td>\n",
       "      <td>539.500000</td>\n",
       "      <td>1.000000</td>\n",
       "      <td>1.000000</td>\n",
       "      <td>140.000000</td>\n",
       "      <td>120.000000</td>\n",
       "      <td>120.000000</td>\n",
       "      <td>120.000000</td>\n",
       "      <td>120.000000</td>\n",
       "      <td>600.000000</td>\n",
       "      <td>5.000000</td>\n",
       "      <td>5.000000</td>\n",
       "      <td>5.000000</td>\n",
       "      <td>5.000000</td>\n",
       "      <td>5.000000</td>\n",
       "      <td>5.000000</td>\n",
       "      <td>5.000000</td>\n",
       "      <td>5.000000</td>\n",
       "    </tr>\n",
       "    <tr>\n",
       "      <th>max</th>\n",
       "      <td>4586.000000</td>\n",
       "      <td>2016.0</td>\n",
       "      <td>5.300108e+06</td>\n",
       "      <td>53.000000</td>\n",
       "      <td>66.000000</td>\n",
       "      <td>3.000000</td>\n",
       "      <td>5.000000</td>\n",
       "      <td>1.0</td>\n",
       "      <td>5.300108e+06</td>\n",
       "      <td>53.000000</td>\n",
       "      <td>4.000000</td>\n",
       "      <td>10.000000</td>\n",
       "      <td>4.000000</td>\n",
       "      <td>1.000000</td>\n",
       "      <td>1.000000</td>\n",
       "      <td>0.0</td>\n",
       "      <td>1.000000</td>\n",
       "      <td>1.000000</td>\n",
       "      <td>0.0</td>\n",
       "      <td>1.000000</td>\n",
       "      <td>1.000000</td>\n",
       "      <td>1.000000</td>\n",
       "      <td>1.000000</td>\n",
       "      <td>1.000000</td>\n",
       "      <td>0.0</td>\n",
       "      <td>1.000000</td>\n",
       "      <td>1.000000</td>\n",
       "      <td>1.000000</td>\n",
       "      <td>1.000000</td>\n",
       "      <td>1.000000</td>\n",
       "      <td>1.000000</td>\n",
       "      <td>0.0</td>\n",
       "      <td>1.000000</td>\n",
       "      <td>0.0</td>\n",
       "      <td>1.000000</td>\n",
       "      <td>1.000000</td>\n",
       "      <td>1.000000</td>\n",
       "      <td>1.000000</td>\n",
       "      <td>1.000000</td>\n",
       "      <td>1.000000</td>\n",
       "      <td>...</td>\n",
       "      <td>0.0</td>\n",
       "      <td>0.0</td>\n",
       "      <td>0.0</td>\n",
       "      <td>0.0</td>\n",
       "      <td>0.0</td>\n",
       "      <td>0.0</td>\n",
       "      <td>0.0</td>\n",
       "      <td>0.0</td>\n",
       "      <td>0.0</td>\n",
       "      <td>0.0</td>\n",
       "      <td>0.0</td>\n",
       "      <td>0.0</td>\n",
       "      <td>1.000000</td>\n",
       "      <td>1.000000</td>\n",
       "      <td>5.300108e+06</td>\n",
       "      <td>53.000000</td>\n",
       "      <td>1.0</td>\n",
       "      <td>1.0</td>\n",
       "      <td>1.0</td>\n",
       "      <td>1.0</td>\n",
       "      <td>806.400000</td>\n",
       "      <td>807.000000</td>\n",
       "      <td>763.600000</td>\n",
       "      <td>952.000000</td>\n",
       "      <td>1.000000</td>\n",
       "      <td>9.000000</td>\n",
       "      <td>200.000000</td>\n",
       "      <td>200.000000</td>\n",
       "      <td>200.000000</td>\n",
       "      <td>200.000000</td>\n",
       "      <td>200.000000</td>\n",
       "      <td>1000.000000</td>\n",
       "      <td>20.000000</td>\n",
       "      <td>5.000000</td>\n",
       "      <td>5.000000</td>\n",
       "      <td>5.000000</td>\n",
       "      <td>5.000000</td>\n",
       "      <td>5.000000</td>\n",
       "      <td>5.000000</td>\n",
       "      <td>5.000000</td>\n",
       "    </tr>\n",
       "  </tbody>\n",
       "</table>\n",
       "<p>8 rows × 93 columns</p>\n",
       "</div>"
      ],
      "text/plain": [
       "        Unnamed: 0  NU_ANO  ...         Q039         Q040\n",
       "count  9385.000000  9385.0  ...  9385.000000  9385.000000\n",
       "mean   2299.393500  2016.0  ...     3.531913     4.425999\n",
       "std    1315.848462     0.0  ...     1.692805     1.188215\n",
       "min       1.000000  2016.0  ...     0.000000     0.000000\n",
       "25%    1166.000000  2016.0  ...     2.000000     4.000000\n",
       "50%    2310.000000  2016.0  ...     4.000000     5.000000\n",
       "75%    3432.000000  2016.0  ...     5.000000     5.000000\n",
       "max    4586.000000  2016.0  ...     5.000000     5.000000\n",
       "\n",
       "[8 rows x 93 columns]"
      ]
     },
     "execution_count": 294,
     "metadata": {
      "tags": []
     },
     "output_type": "execute_result"
    }
   ],
   "source": [
    "data_train.describe()"
   ]
  },
  {
   "cell_type": "code",
   "execution_count": null,
   "metadata": {
    "colab": {
     "base_uri": "https://localhost:8080/"
    },
    "id": "JuWKBTkx_z86",
    "outputId": "46e17bc5-83ee-4cdd-e471-8599441bd23c"
   },
   "outputs": [
    {
     "data": {
      "text/html": [
       "<div>\n",
       "<style scoped>\n",
       "    .dataframe tbody tr th:only-of-type {\n",
       "        vertical-align: middle;\n",
       "    }\n",
       "\n",
       "    .dataframe tbody tr th {\n",
       "        vertical-align: top;\n",
       "    }\n",
       "\n",
       "    .dataframe thead th {\n",
       "        text-align: right;\n",
       "    }\n",
       "</style>\n",
       "<table border=\"1\" class=\"dataframe\">\n",
       "  <thead>\n",
       "    <tr style=\"text-align: right;\">\n",
       "      <th></th>\n",
       "      <th>CO_UF_RESIDENCIA</th>\n",
       "      <th>NU_IDADE</th>\n",
       "      <th>TP_COR_RACA</th>\n",
       "      <th>TP_NACIONALIDADE</th>\n",
       "      <th>TP_ST_CONCLUSAO</th>\n",
       "      <th>TP_ANO_CONCLUIU</th>\n",
       "      <th>TP_ESCOLA</th>\n",
       "      <th>IN_TREINEIRO</th>\n",
       "      <th>IN_BAIXA_VISAO</th>\n",
       "      <th>IN_CEGUEIRA</th>\n",
       "      <th>IN_SURDEZ</th>\n",
       "      <th>IN_DISLEXIA</th>\n",
       "      <th>IN_DISCALCULIA</th>\n",
       "      <th>IN_SABATISTA</th>\n",
       "      <th>IN_GESTANTE</th>\n",
       "      <th>IN_IDOSO</th>\n",
       "      <th>TP_PRESENCA_CN</th>\n",
       "      <th>TP_PRESENCA_CH</th>\n",
       "      <th>TP_PRESENCA_LC</th>\n",
       "      <th>NU_NOTA_CN</th>\n",
       "      <th>NU_NOTA_CH</th>\n",
       "      <th>NU_NOTA_LC</th>\n",
       "      <th>TP_LINGUA</th>\n",
       "      <th>TP_STATUS_REDACAO</th>\n",
       "      <th>NU_NOTA_COMP1</th>\n",
       "      <th>NU_NOTA_COMP2</th>\n",
       "      <th>NU_NOTA_COMP3</th>\n",
       "      <th>NU_NOTA_COMP4</th>\n",
       "      <th>NU_NOTA_COMP5</th>\n",
       "      <th>NU_NOTA_REDACAO</th>\n",
       "    </tr>\n",
       "  </thead>\n",
       "  <tbody>\n",
       "    <tr>\n",
       "      <th>count</th>\n",
       "      <td>3360.000000</td>\n",
       "      <td>3360.000000</td>\n",
       "      <td>3360.000000</td>\n",
       "      <td>3360.000000</td>\n",
       "      <td>3360.000000</td>\n",
       "      <td>3360.000000</td>\n",
       "      <td>3360.000000</td>\n",
       "      <td>3360.000000</td>\n",
       "      <td>3360.000000</td>\n",
       "      <td>3360.0</td>\n",
       "      <td>3360.0</td>\n",
       "      <td>3360.0</td>\n",
       "      <td>3360.0</td>\n",
       "      <td>3360.000000</td>\n",
       "      <td>3360.000000</td>\n",
       "      <td>3360.0</td>\n",
       "      <td>3360.0</td>\n",
       "      <td>3360.0</td>\n",
       "      <td>3360.0</td>\n",
       "      <td>3360.000000</td>\n",
       "      <td>3360.000000</td>\n",
       "      <td>3360.000000</td>\n",
       "      <td>3360.000000</td>\n",
       "      <td>3360.000000</td>\n",
       "      <td>3360.000000</td>\n",
       "      <td>3360.000000</td>\n",
       "      <td>3360.000000</td>\n",
       "      <td>3360.000000</td>\n",
       "      <td>3360.000000</td>\n",
       "      <td>3360.000000</td>\n",
       "    </tr>\n",
       "    <tr>\n",
       "      <th>mean</th>\n",
       "      <td>30.741071</td>\n",
       "      <td>20.413095</td>\n",
       "      <td>2.185119</td>\n",
       "      <td>1.057738</td>\n",
       "      <td>1.836012</td>\n",
       "      <td>1.683333</td>\n",
       "      <td>1.429464</td>\n",
       "      <td>0.148810</td>\n",
       "      <td>0.000595</td>\n",
       "      <td>0.0</td>\n",
       "      <td>0.0</td>\n",
       "      <td>0.0</td>\n",
       "      <td>0.0</td>\n",
       "      <td>0.011905</td>\n",
       "      <td>0.000298</td>\n",
       "      <td>0.0</td>\n",
       "      <td>1.0</td>\n",
       "      <td>1.0</td>\n",
       "      <td>1.0</td>\n",
       "      <td>473.500655</td>\n",
       "      <td>529.748720</td>\n",
       "      <td>514.618631</td>\n",
       "      <td>0.592857</td>\n",
       "      <td>1.093452</td>\n",
       "      <td>119.750000</td>\n",
       "      <td>112.029762</td>\n",
       "      <td>106.482143</td>\n",
       "      <td>113.023810</td>\n",
       "      <td>76.779762</td>\n",
       "      <td>528.065476</td>\n",
       "    </tr>\n",
       "    <tr>\n",
       "      <th>std</th>\n",
       "      <td>9.939842</td>\n",
       "      <td>6.033267</td>\n",
       "      <td>1.016514</td>\n",
       "      <td>0.283935</td>\n",
       "      <td>0.833334</td>\n",
       "      <td>2.873697</td>\n",
       "      <td>0.601992</td>\n",
       "      <td>0.355954</td>\n",
       "      <td>0.024394</td>\n",
       "      <td>0.0</td>\n",
       "      <td>0.0</td>\n",
       "      <td>0.0</td>\n",
       "      <td>0.0</td>\n",
       "      <td>0.108474</td>\n",
       "      <td>0.017252</td>\n",
       "      <td>0.0</td>\n",
       "      <td>0.0</td>\n",
       "      <td>0.0</td>\n",
       "      <td>0.0</td>\n",
       "      <td>70.678178</td>\n",
       "      <td>72.747219</td>\n",
       "      <td>67.118345</td>\n",
       "      <td>0.491375</td>\n",
       "      <td>0.684680</td>\n",
       "      <td>28.903706</td>\n",
       "      <td>33.213147</td>\n",
       "      <td>33.744301</td>\n",
       "      <td>33.072665</td>\n",
       "      <td>42.987418</td>\n",
       "      <td>151.491764</td>\n",
       "    </tr>\n",
       "    <tr>\n",
       "      <th>min</th>\n",
       "      <td>11.000000</td>\n",
       "      <td>14.000000</td>\n",
       "      <td>0.000000</td>\n",
       "      <td>0.000000</td>\n",
       "      <td>1.000000</td>\n",
       "      <td>0.000000</td>\n",
       "      <td>1.000000</td>\n",
       "      <td>0.000000</td>\n",
       "      <td>0.000000</td>\n",
       "      <td>0.0</td>\n",
       "      <td>0.0</td>\n",
       "      <td>0.0</td>\n",
       "      <td>0.0</td>\n",
       "      <td>0.000000</td>\n",
       "      <td>0.000000</td>\n",
       "      <td>0.0</td>\n",
       "      <td>1.0</td>\n",
       "      <td>1.0</td>\n",
       "      <td>1.0</td>\n",
       "      <td>0.000000</td>\n",
       "      <td>330.600000</td>\n",
       "      <td>0.000000</td>\n",
       "      <td>0.000000</td>\n",
       "      <td>1.000000</td>\n",
       "      <td>0.000000</td>\n",
       "      <td>0.000000</td>\n",
       "      <td>0.000000</td>\n",
       "      <td>0.000000</td>\n",
       "      <td>0.000000</td>\n",
       "      <td>0.000000</td>\n",
       "    </tr>\n",
       "    <tr>\n",
       "      <th>25%</th>\n",
       "      <td>23.000000</td>\n",
       "      <td>17.000000</td>\n",
       "      <td>1.000000</td>\n",
       "      <td>1.000000</td>\n",
       "      <td>1.000000</td>\n",
       "      <td>0.000000</td>\n",
       "      <td>1.000000</td>\n",
       "      <td>0.000000</td>\n",
       "      <td>0.000000</td>\n",
       "      <td>0.0</td>\n",
       "      <td>0.0</td>\n",
       "      <td>0.0</td>\n",
       "      <td>0.0</td>\n",
       "      <td>0.000000</td>\n",
       "      <td>0.000000</td>\n",
       "      <td>0.0</td>\n",
       "      <td>1.0</td>\n",
       "      <td>1.0</td>\n",
       "      <td>1.0</td>\n",
       "      <td>419.775000</td>\n",
       "      <td>480.000000</td>\n",
       "      <td>468.700000</td>\n",
       "      <td>0.000000</td>\n",
       "      <td>1.000000</td>\n",
       "      <td>120.000000</td>\n",
       "      <td>100.000000</td>\n",
       "      <td>80.000000</td>\n",
       "      <td>100.000000</td>\n",
       "      <td>40.000000</td>\n",
       "      <td>440.000000</td>\n",
       "    </tr>\n",
       "    <tr>\n",
       "      <th>50%</th>\n",
       "      <td>31.000000</td>\n",
       "      <td>18.000000</td>\n",
       "      <td>3.000000</td>\n",
       "      <td>1.000000</td>\n",
       "      <td>2.000000</td>\n",
       "      <td>0.000000</td>\n",
       "      <td>1.000000</td>\n",
       "      <td>0.000000</td>\n",
       "      <td>0.000000</td>\n",
       "      <td>0.0</td>\n",
       "      <td>0.0</td>\n",
       "      <td>0.0</td>\n",
       "      <td>0.0</td>\n",
       "      <td>0.000000</td>\n",
       "      <td>0.000000</td>\n",
       "      <td>0.0</td>\n",
       "      <td>1.0</td>\n",
       "      <td>1.0</td>\n",
       "      <td>1.0</td>\n",
       "      <td>458.450000</td>\n",
       "      <td>532.400000</td>\n",
       "      <td>517.300000</td>\n",
       "      <td>1.000000</td>\n",
       "      <td>1.000000</td>\n",
       "      <td>120.000000</td>\n",
       "      <td>120.000000</td>\n",
       "      <td>100.000000</td>\n",
       "      <td>120.000000</td>\n",
       "      <td>80.000000</td>\n",
       "      <td>540.000000</td>\n",
       "    </tr>\n",
       "    <tr>\n",
       "      <th>75%</th>\n",
       "      <td>35.000000</td>\n",
       "      <td>21.000000</td>\n",
       "      <td>3.000000</td>\n",
       "      <td>1.000000</td>\n",
       "      <td>2.000000</td>\n",
       "      <td>2.000000</td>\n",
       "      <td>2.000000</td>\n",
       "      <td>0.000000</td>\n",
       "      <td>0.000000</td>\n",
       "      <td>0.0</td>\n",
       "      <td>0.0</td>\n",
       "      <td>0.0</td>\n",
       "      <td>0.0</td>\n",
       "      <td>0.000000</td>\n",
       "      <td>0.000000</td>\n",
       "      <td>0.0</td>\n",
       "      <td>1.0</td>\n",
       "      <td>1.0</td>\n",
       "      <td>1.0</td>\n",
       "      <td>514.500000</td>\n",
       "      <td>579.800000</td>\n",
       "      <td>562.400000</td>\n",
       "      <td>1.000000</td>\n",
       "      <td>1.000000</td>\n",
       "      <td>140.000000</td>\n",
       "      <td>120.000000</td>\n",
       "      <td>120.000000</td>\n",
       "      <td>120.000000</td>\n",
       "      <td>100.000000</td>\n",
       "      <td>600.000000</td>\n",
       "    </tr>\n",
       "    <tr>\n",
       "      <th>max</th>\n",
       "      <td>53.000000</td>\n",
       "      <td>60.000000</td>\n",
       "      <td>5.000000</td>\n",
       "      <td>4.000000</td>\n",
       "      <td>4.000000</td>\n",
       "      <td>10.000000</td>\n",
       "      <td>3.000000</td>\n",
       "      <td>1.000000</td>\n",
       "      <td>1.000000</td>\n",
       "      <td>0.0</td>\n",
       "      <td>0.0</td>\n",
       "      <td>0.0</td>\n",
       "      <td>0.0</td>\n",
       "      <td>1.000000</td>\n",
       "      <td>1.000000</td>\n",
       "      <td>0.0</td>\n",
       "      <td>1.0</td>\n",
       "      <td>1.0</td>\n",
       "      <td>1.0</td>\n",
       "      <td>778.900000</td>\n",
       "      <td>773.600000</td>\n",
       "      <td>708.900000</td>\n",
       "      <td>1.000000</td>\n",
       "      <td>9.000000</td>\n",
       "      <td>200.000000</td>\n",
       "      <td>200.000000</td>\n",
       "      <td>200.000000</td>\n",
       "      <td>200.000000</td>\n",
       "      <td>200.000000</td>\n",
       "      <td>980.000000</td>\n",
       "    </tr>\n",
       "  </tbody>\n",
       "</table>\n",
       "</div>"
      ],
      "text/plain": [
       "       CO_UF_RESIDENCIA     NU_IDADE  ...  NU_NOTA_COMP5  NU_NOTA_REDACAO\n",
       "count       3360.000000  3360.000000  ...    3360.000000      3360.000000\n",
       "mean          30.741071    20.413095  ...      76.779762       528.065476\n",
       "std            9.939842     6.033267  ...      42.987418       151.491764\n",
       "min           11.000000    14.000000  ...       0.000000         0.000000\n",
       "25%           23.000000    17.000000  ...      40.000000       440.000000\n",
       "50%           31.000000    18.000000  ...      80.000000       540.000000\n",
       "75%           35.000000    21.000000  ...     100.000000       600.000000\n",
       "max           53.000000    60.000000  ...     200.000000       980.000000\n",
       "\n",
       "[8 rows x 30 columns]"
      ]
     },
     "execution_count": 295,
     "metadata": {
      "tags": []
     },
     "output_type": "execute_result"
    }
   ],
   "source": [
    "data_test.describe()"
   ]
  },
  {
   "cell_type": "code",
   "execution_count": null,
   "metadata": {
    "colab": {
     "base_uri": "https://localhost:8080/"
    },
    "id": "M_XDVZEL_z88",
    "outputId": "14879f72-3008-4a27-f9ed-7e5f12cbd345"
   },
   "outputs": [
    {
     "data": {
      "image/png": "[encoded data removed]",
      "text/plain": [
       "<Figure size 1440x1440 with 100 Axes>"
      ]
     },
     "metadata": {
      "needs_background": "light",
      "tags": []
     },
     "output_type": "display_data"
    }
   ],
   "source": [
    "data_train.hist(figsize=(20,20),bins=20);"
   ]
  },
  {
   "cell_type": "code",
   "execution_count": null,
   "metadata": {
    "colab": {
     "base_uri": "https://localhost:8080/"
    },
    "id": "Btj1RPNK_z88",
    "outputId": "9378aa2d-a6d5-4537-c80e-3760835b1bc0"
   },
   "outputs": [
    {
     "data": {
      "image/png": "[encoded data removed]",
      "text/plain": [
       "<Figure size 1440x720 with 1 Axes>"
      ]
     },
     "metadata": {
      "needs_background": "light",
      "tags": []
     },
     "output_type": "display_data"
    }
   ],
   "source": [
    "data_train['NU_NOTA_MT'].hist(figsize=(20,10), bins=20);"
   ]
  },
  {
   "cell_type": "code",
   "execution_count": null,
   "metadata": {
    "id": "3XJmXlV4_z89"
   },
   "outputs": [],
   "source": [
    "#amostragem de 1% dos dados para análise\n",
    "sample_dt = data_train.sample(frac=0.01, random_state=42)"
   ]
  },
  {
   "cell_type": "code",
   "execution_count": null,
   "metadata": {
    "colab": {
     "base_uri": "https://localhost:8080/"
    },
    "id": "6meHCTkF_z8-",
    "outputId": "d30eaaa4-92d5-41f6-a9f4-a6e16fde675c"
   },
   "outputs": [
    {
     "name": "stderr",
     "output_type": "stream",
     "text": [
      "/usr/local/lib/python3.7/dist-packages/seaborn/_decorators.py:43: FutureWarning: Pass the following variables as keyword args: x, y. From version 0.12, the only valid positional argument will be `data`, and passing other arguments without an explicit keyword will result in an error or misinterpretation.\n",
      "  FutureWarning\n"
     ]
    },
    {
     "data": {
      "image/png": "[encoded data removed]",
      "text/plain": [
       "<Figure size 7200x1440 with 1 Axes>"
      ]
     },
     "metadata": {
      "needs_background": "light",
      "tags": []
     },
     "output_type": "display_data"
    }
   ],
   "source": [
    "#Nota de matemática pelo municipio de residencia\n",
    "plt.figure(figsize=(100,20))\n",
    "plt.xticks(rotation='vertical')\n",
    "sns.barplot(sample_dt['NO_MUNICIPIO_RESIDENCIA'], sample_dt['NU_NOTA_MT']);"
   ]
  },
  {
   "cell_type": "code",
   "execution_count": null,
   "metadata": {
    "id": "ITgaREWz_z9D"
   },
   "outputs": [],
   "source": [
    "#média das notas dos alunos em matemática por tipo de escola\n",
    "M_TPE1 = sum((data_train['NU_NOTA_MT'][data_train['TP_ESCOLA'] == 1]))/data_train['NU_NOTA_MT'][data_train['TP_ESCOLA'] == 1].shape[0]\n",
    "M_TPE2 = sum((data_train['NU_NOTA_MT'][data_train['TP_ESCOLA'] == 2]))/data_train['NU_NOTA_MT'][data_train['TP_ESCOLA'] == 2].shape[0]\n",
    "M_TPE3 = sum((data_train['NU_NOTA_MT'][data_train['TP_ESCOLA'] == 3]))/data_train['NU_NOTA_MT'][data_train['TP_ESCOLA'] == 3].shape[0]\n",
    "#media de notas dos aluno em ciências da natureza por tipo de escola \n",
    "M_CN_TPE1 = sum(data_train['NU_NOTA_CN'][data_train['TP_ESCOLA'] == 1])/data_train['NU_NOTA_CN'][data_train['TP_ESCOLA'] == 1].shape[0]\n",
    "M_CN_TPE2 = sum(data_train['NU_NOTA_CN'][data_train['TP_ESCOLA'] == 2])/data_train['NU_NOTA_CN'][data_train['TP_ESCOLA'] == 2].shape[0]\n",
    "M_CN_TPE3 = sum(data_train['NU_NOTA_CN'][data_train['TP_ESCOLA'] == 3])/data_train['NU_NOTA_CN'][data_train['TP_ESCOLA'] == 3].shape[0]\n",
    "#media de notas dos aluno em ciências humanas por tipo de escola \n",
    "M_CH_TPE1 = sum(data_train['NU_NOTA_CH'][data_train['TP_ESCOLA'] == 1])/data_train['NU_NOTA_CH'][data_train['TP_ESCOLA'] == 1].shape[0]\n",
    "M_CH_TPE2 = sum(data_train['NU_NOTA_CH'][data_train['TP_ESCOLA'] == 2])/data_train['NU_NOTA_CH'][data_train['TP_ESCOLA'] == 2].shape[0]\n",
    "M_CH_TPE3 = sum(data_train['NU_NOTA_CH'][data_train['TP_ESCOLA'] == 3])/data_train['NU_NOTA_CH'][data_train['TP_ESCOLA'] == 3].shape[0]\n",
    "#média das notas dos alunos em linguagens e códigos por tipo de escola\n",
    "M_LC_TPE1 = sum((data_train['NU_NOTA_LC'][data_train['TP_ESCOLA'] == 1]))/data_train['NU_NOTA_LC'][data_train['TP_ESCOLA'] == 1].shape[0]\n",
    "M_LC_TPE2 = sum((data_train['NU_NOTA_LC'][data_train['TP_ESCOLA'] == 2]))/data_train['NU_NOTA_LC'][data_train['TP_ESCOLA'] == 2].shape[0]\n",
    "M_LC_TPE3 = sum((data_train['NU_NOTA_LC'][data_train['TP_ESCOLA'] == 3]))/data_train['NU_NOTA_LC'][data_train['TP_ESCOLA'] == 3].shape[0]\n",
    "#media de notas dos aluno em redação por tipo de escola \n",
    "M_R_TPE1 = sum(data_train['NU_NOTA_REDACAO'][data_train['TP_ESCOLA'] == 1])/data_train['NU_NOTA_REDACAO'][data_train['TP_ESCOLA'] == 1].shape[0]\n",
    "M_R_TPE2 = sum(data_train['NU_NOTA_REDACAO'][data_train['TP_ESCOLA'] == 2])/data_train['NU_NOTA_REDACAO'][data_train['TP_ESCOLA'] == 2].shape[0]\n",
    "M_R_TPE3 = sum(data_train['NU_NOTA_REDACAO'][data_train['TP_ESCOLA'] == 3])/data_train['NU_NOTA_REDACAO'][data_train['TP_ESCOLA'] == 3].shape[0]"
   ]
  },
  {
   "cell_type": "code",
   "execution_count": null,
   "metadata": {
    "colab": {
     "base_uri": "https://localhost:8080/"
    },
    "id": "naEbs62DMkME",
    "outputId": "387630c1-382c-4d08-ba72-e80fea22d161"
   },
   "outputs": [
    {
     "data": {
      "image/png": "[encoded data removed]",
      "text/plain": [
       "<Figure size 720x1152 with 3 Axes>"
      ]
     },
     "metadata": {
      "needs_background": "light",
      "tags": []
     },
     "output_type": "display_data"
    }
   ],
   "source": [
    "#relação da nota de matemática com CH, CN e Redação\n",
    "# 1 Não respondeu, 2 Pública, 3 Privada, 4 Exterior (obs: não há alunos em escolas da categoria 4)\n",
    "fig, axes = plt.subplots(3,1, figsize=(10,16))\n",
    "fig.tight_layout(h_pad=6)\n",
    "ax1 = sns.barplot(ax=axes[0], x=[\"MT\", \"CN\", \"CH\",'LC',\"Redação\"], y=[M_TPE1, M_CN_TPE1, M_CH_TPE1, M_LC_TPE1, M_R_TPE1])\n",
    "axes[0].set_title(\"Não respondeu o tipo de escola\")\n",
    "axes[0].set_xlabel(\"Matéria\")\n",
    "axes[0].set_ylabel(\"Média\")\n",
    "ax2 = sns.barplot(ax=axes[1], x=[\"MT\", \"CN\", \"CH\",'LC',\"Redação\"], y=[M_TPE2, M_CN_TPE2, M_CH_TPE2, M_LC_TPE2, M_R_TPE2])\n",
    "axes[1].set_title(\"Escola Pública\")\n",
    "axes[1].set_xlabel(\"Matéria\")\n",
    "axes[1].set_ylabel(\"Média\")\n",
    "ax3 = sns.barplot(ax=axes[2], x=[\"MT\", \"CN\", \"CH\",'LC',\"Redação\"], y=[M_TPE3, M_CN_TPE3, M_CH_TPE3, M_LC_TPE3, M_R_TPE3])\n",
    "axes[2].set_title(\"Escola Privada\")\n",
    "axes[2].set_xlabel(\"Matéria\")\n",
    "axes[2].set_ylabel(\"Média\")\n",
    "\n",
    "for p in ax1.patches:\n",
    "    ax1.annotate(format(p.get_height(), '.1f'), \n",
    "                   (p.get_x() + p.get_width() / 2., p.get_height()), \n",
    "                   ha = 'center', va = 'center', \n",
    "                   xytext = (0, -12), \n",
    "                   textcoords = 'offset points')\n",
    "for p in ax2.patches:\n",
    "    ax2.annotate(format(p.get_height(), '.1f'), \n",
    "                   (p.get_x() + p.get_width() / 2., p.get_height()), \n",
    "                   ha = 'center', va = 'center', \n",
    "                   xytext = (0, -12), \n",
    "                   textcoords = 'offset points')\n",
    "    \n",
    "for p in ax3.patches:\n",
    "    ax3.annotate(format(p.get_height(), '.1f'), \n",
    "                   (p.get_x() + p.get_width() / 2., p.get_height()), \n",
    "                   ha = 'center', va = 'center', \n",
    "                   xytext = (0, -12), \n",
    "                   textcoords = 'offset points')"
   ]
  },
  {
   "cell_type": "code",
   "execution_count": null,
   "metadata": {
    "id": "N7UNM12MMeIH"
   },
   "outputs": [],
   "source": [
    "# Relação de deficiencias com a nota\n",
    "#média das notas dos alunos em matemática por tipo de escola\n",
    "# não tem alunos com cegueira, surdo-cegueira e autismo\n",
    "qtd_M_BV = data_train['NU_NOTA_MT'][data_train['IN_BAIXA_VISAO'] == 1].shape[0]\n",
    "M_BV = sum((data_train['NU_NOTA_MT'][data_train['IN_BAIXA_VISAO'] == 1]))/qtd_M_BV\n",
    "#M_CEG = sum((data_train['NU_NOTA_MT'][data_train['IN_CEGUEIRA'] == 1]))/data_train['NU_NOTA_MT'][data_train['IN_CEGUEIRA'] == 1].shape[0]\n",
    "qtd_M_S = data_train['NU_NOTA_MT'][data_train['IN_SURDEZ'] == 1].shape[0]\n",
    "M_S = sum((data_train['NU_NOTA_MT'][data_train['IN_SURDEZ'] == 1]))/qtd_M_S\n",
    "qtd_M_DA = data_train['NU_NOTA_MT'][data_train['IN_DEFICIENCIA_AUDITIVA'] == 1].shape[0]\n",
    "M_DA = sum((data_train['NU_NOTA_MT'][data_train['IN_DEFICIENCIA_AUDITIVA'] == 1]))/qtd_M_DA\n",
    "#M_SC = sum((data_train['NU_NOTA_MT'][data_train['IN_SURDO_CEGUEIRA'] == 1]))/data_train['NU_NOTA_MT'][data_train['IN_SURDO_CEGUEIRA'] == 1].shape[0]\n",
    "qtd_M_DF = data_train['NU_NOTA_MT'][data_train['IN_DEFICIENCIA_FISICA'] == 1].shape[0]\n",
    "M_DF = sum((data_train['NU_NOTA_MT'][data_train['IN_DEFICIENCIA_FISICA'] == 1]))/qtd_M_DF\n",
    "qtd_M_DM = data_train['NU_NOTA_MT'][data_train['IN_DEFICIENCIA_MENTAL'] == 1].shape[0]\n",
    "M_DM = sum((data_train['NU_NOTA_MT'][data_train['IN_DEFICIENCIA_MENTAL'] == 1]))/qtd_M_DM\n",
    "qtd_M_D_ATC = data_train['NU_NOTA_MT'][data_train['IN_DEFICIT_ATENCAO'] == 1].shape[0]\n",
    "M_D_ATC = sum((data_train['NU_NOTA_MT'][data_train['IN_DEFICIT_ATENCAO'] == 1]))/qtd_M_D_ATC\n",
    "qtd_M_DISLEXIA = data_train['NU_NOTA_MT'][data_train['IN_DISLEXIA'] == 1].shape[0]\n",
    "M_DISLEXIA = sum((data_train['NU_NOTA_MT'][data_train['IN_DISLEXIA'] == 1]))/qtd_M_DISLEXIA\n",
    "qtd_M_DISCALC = data_train['NU_NOTA_MT'][data_train['IN_DISCALCULIA'] == 1].shape[0]\n",
    "M_DISCALC = sum((data_train['NU_NOTA_MT'][data_train['IN_DISCALCULIA'] == 1]))/qtd_M_DISCALC\n",
    "#M_AUT = sum((data_train['NU_NOTA_MT'][data_train['IN_AUTISMO'] == 1]))/data_train['NU_NOTA_MT'][data_train['IN_AUTISMO'] == 1].shape[0]\n",
    "qtd_M_V_MONO = data_train['NU_NOTA_MT'][data_train['IN_VISAO_MONOCULAR'] == 1].shape[0]\n",
    "M_V_MONO = sum((data_train['NU_NOTA_MT'][data_train['IN_VISAO_MONOCULAR'] == 1]))/qtd_M_V_MONO\n",
    "qtd_M_OUTRA_DEF = data_train['NU_NOTA_MT'][data_train['IN_OUTRA_DEF'] == 1].shape[0]\n",
    "M_OUTRA_DEF = sum((data_train['NU_NOTA_MT'][data_train['IN_OUTRA_DEF'] == 1]))/qtd_M_OUTRA_DEF\n",
    "#alunos com nenhum tipo de deficiencia\n",
    "qtd_N_DEFS = (data_train['NU_NOTA_MT'][data_train['IN_VISAO_MONOCULAR'] == 0][data_train['IN_BAIXA_VISAO'] == 0][data_train['IN_SURDEZ'] == 0][data_train['IN_DEFICIENCIA_AUDITIVA'] == 0][data_train['IN_DEFICIENCIA_MENTAL'] == 0][data_train['IN_DEFICIENCIA_FISICA'] == 0][data_train['IN_DEFICIT_ATENCAO'] == 0][data_train['IN_DISLEXIA'] == 0][data_train['IN_DISCALCULIA'] == 0][data_train['IN_OUTRA_DEF'] == 0]).shape[0]\n",
    "N_DEFS = sum(data_train['NU_NOTA_MT'][data_train['IN_VISAO_MONOCULAR'] == 0][data_train['IN_BAIXA_VISAO'] == 0][data_train['IN_SURDEZ'] == 0][data_train['IN_DEFICIENCIA_AUDITIVA'] == 0][data_train['IN_DEFICIENCIA_MENTAL'] == 0][data_train['IN_DEFICIENCIA_FISICA'] == 0][data_train['IN_DEFICIT_ATENCAO'] == 0][data_train['IN_DISLEXIA'] == 0][data_train['IN_DISCALCULIA'] == 0][data_train['IN_OUTRA_DEF'] == 0])/qtd_N_DEFS\n",
    "#lista de nomes\n",
    "T_DEFS = [\"Baixa Visão\", \"Surdez\", \"Auditiva\", \"Fisica\", \"Mental\", \"Deficit de Atenção\", \"Dislexia\", \"Discalculia\", \"Visão Monocular\", \"Outra Deficiência\",\"Nenhuma Deficiência\"]\n",
    "qtds = [qtd_M_BV, qtd_M_S, qtd_M_DA, qtd_M_DF, qtd_M_DM, qtd_M_D_ATC, qtd_M_DISLEXIA, qtd_M_DISCALC, qtd_M_V_MONO, qtd_M_OUTRA_DEF]\n",
    "medias = [M_BV, M_S, M_DA, M_DF, M_DM, M_D_ATC, M_DISLEXIA, M_DISCALC, M_V_MONO, M_OUTRA_DEF, N_DEFS]"
   ]
  },
  {
   "cell_type": "code",
   "execution_count": null,
   "metadata": {
    "colab": {
     "base_uri": "https://localhost:8080/"
    },
    "id": "57y3wT65bm1D",
    "outputId": "25490dc5-a5cd-430d-94bc-42ac0a81cf28"
   },
   "outputs": [
    {
     "data": {
      "image/png": "[encoded data removed]",
      "text/plain": [
       "<Figure size 864x504 with 1 Axes>"
      ]
     },
     "metadata": {
      "needs_background": "light",
      "tags": []
     },
     "output_type": "display_data"
    }
   ],
   "source": [
    "#fig, axes = plt.subplots(2,1,figsize=(10,10))\n",
    "plt.figure(figsize=(12,7))\n",
    "plt.xticks(rotation='vertical')\n",
    "g = sns.barplot(x=T_DEFS, y=medias)\n",
    "plt.xlabel(\"Tipo de deficiencia\")\n",
    "plt.ylabel(\"Média das notas\")\n",
    "plt.title(\"Média dos alunos por tipo de deficiencia\")\n",
    "\n",
    "for p in g.patches:\n",
    "    g.annotate(format(p.get_height(), '.1f'), \n",
    "                   (p.get_x() + p.get_width() / 2., p.get_height()), \n",
    "                   ha = 'center', va = 'center', \n",
    "                   xytext = (0, -12), \n",
    "                   textcoords = 'offset points')"
   ]
  },
  {
   "cell_type": "code",
   "execution_count": null,
   "metadata": {
    "id": "ppqGMJlNP6Hx"
   },
   "outputs": [],
   "source": [
    "#Relação da notas com algumas informações socioeconônicas\n",
    "#média das notas dos alunos em matemática no caso do aluno ter ou não computador\n",
    "MT_T_PC = sum(data_train['NU_NOTA_MT'][data_train['Q025'] == 'B'][data_train['Q024'] != 'A'])/data_train['NU_NOTA_MT'][data_train['Q025'] == 'B'][data_train['Q024'] != 'A'].shape[0]\n",
    "MT_NT_PC = sum(data_train['NU_NOTA_MT'][data_train['Q025'] == 'A'][data_train['Q024'] == 'A'])/data_train['NU_NOTA_MT'][data_train['Q025'] == 'A'][data_train['Q024'] == 'A'].shape[0]\n",
    "#media de notas dos aluno em ciências da natureza no caso do aluno ter ou não computador\n",
    "CN_T_PC = sum(data_train['NU_NOTA_CN'][data_train['Q025'] == 'B'][data_train['Q024'] != 'A'])/data_train['NU_NOTA_CN'][data_train['Q025'] == 'B'][data_train['Q024'] != 'A'].shape[0]\n",
    "CN_NT_PC = sum(data_train['NU_NOTA_CN'][data_train['Q025'] == 'A'][data_train['Q024'] == 'A'])/data_train['NU_NOTA_CN'][data_train['Q025'] == 'A'][data_train['Q024'] == 'A'].shape[0]\n",
    "#media de notas dos aluno em ciências humanas no caso do aluno ter ou não computador\n",
    "CH_T_PC = sum(data_train['NU_NOTA_CH'][data_train['Q025'] == 'B'][data_train['Q024'] != 'A'])/data_train['NU_NOTA_CH'][data_train['Q025'] == 'B'][data_train['Q024'] != 'A'].shape[0]\n",
    "CH_NT_PC = sum(data_train['NU_NOTA_CH'][data_train['Q025'] == 'A'][data_train['Q024'] == 'A'])/data_train['NU_NOTA_CH'][data_train['Q025']== 'A'][data_train['Q024'] == 'A'].shape[0]\n",
    "#media de notas dos aluno em linguagens e códigos no caso do aluno ter ou não computador\n",
    "LC_T_PC = sum(data_train['NU_NOTA_LC'][data_train['Q025'] == 'B'][data_train['Q024'] != 'A'])/data_train['NU_NOTA_LC'][data_train['Q025'] == 'B'][data_train['Q024'] != 'A'].shape[0]\n",
    "LC_NT_PC = sum(data_train['NU_NOTA_LC'][data_train['Q025'] == 'A'][data_train['Q024'] == 'A'])/data_train['NU_NOTA_LC'][data_train['Q025'] == 'A'][data_train['Q024'] == 'A'].shape[0]\n",
    "#media de notas dos aluno em redação no caso do aluno ter ou não computador\n",
    "R_T_PC = sum(data_train['NU_NOTA_REDACAO'][data_train['Q025'] == 'B'][data_train['Q024'] != 'A'])/data_train['NU_NOTA_REDACAO'][data_train['Q025'] == 'B'][data_train['Q024'] != 'A'].shape[0]\n",
    "R_NT_PC = sum(data_train['NU_NOTA_REDACAO'][data_train['Q025'] == 'A'][data_train['Q024'] == 'A'])/data_train['NU_NOTA_REDACAO'][data_train['Q025'] == 'A'][data_train['Q024'] == 'A'].shape[0]"
   ]
  },
  {
   "cell_type": "code",
   "execution_count": null,
   "metadata": {
    "colab": {
     "base_uri": "https://localhost:8080/"
    },
    "id": "WqXUIByjR6Wk",
    "outputId": "f9ab9c04-bd7e-4c5b-afd0-b785ccca8da5"
   },
   "outputs": [
    {
     "data": {
      "image/png": "[encoded data removed]",
      "text/plain": [
       "<Figure size 1440x504 with 2 Axes>"
      ]
     },
     "metadata": {
      "needs_background": "light",
      "tags": []
     },
     "output_type": "display_data"
    }
   ],
   "source": [
    "fig, axes = plt.subplots(1,2, figsize=(20,7))\n",
    "ax1 = sns.barplot(ax=axes[0], x=[\"MT\", \"CN\", \"CH\", \"LC\", \"Redação\"], y=[MT_T_PC, CN_T_PC, CH_T_PC, LC_T_PC ,R_T_PC])\n",
    "axes[0].set_title(\"Tem computador com internet\")\n",
    "axes[0].set_xlabel(\"Matéria\")\n",
    "axes[0].set_ylabel(\"Média\")\n",
    "ax2 = sns.barplot(ax=axes[1], x=[\"MT\", \"CN\", \"CH\", \"LC\", \"Redação\"], y=[MT_NT_PC, CN_NT_PC, CH_NT_PC, LC_NT_PC, R_NT_PC])\n",
    "axes[1].set_title(\"Não tem computador nem internet\")\n",
    "axes[1].set_xlabel(\"Matéria\")\n",
    "axes[1].set_ylabel(\"Média\")\n",
    "for p in ax1.patches:\n",
    "    ax1.annotate(format(p.get_height(), '.1f'), \n",
    "                   (p.get_x() + p.get_width() / 2., p.get_height()), \n",
    "                   ha = 'center', va = 'center', \n",
    "                   xytext = (0, -12), \n",
    "                   textcoords = 'offset points')\n",
    "for p in ax2.patches:\n",
    "    ax2.annotate(format(p.get_height(), '.1f'), \n",
    "                   (p.get_x() + p.get_width() / 2., p.get_height()), \n",
    "                   ha = 'center', va = 'center', \n",
    "                   xytext = (0, -12), \n",
    "                   textcoords = 'offset points')"
   ]
  },
  {
   "cell_type": "code",
   "execution_count": null,
   "metadata": {
    "id": "KChi68IOeG6e"
   },
   "outputs": [],
   "source": [
    "#média das notas dos alunos em matemática pelo caso do aluno trabalhar ou não\n",
    "MT_TRAB = sum((data_train['NU_NOTA_MT'][data_train['Q026'] == 'C']))/data_train['NU_NOTA_MT'][data_train['Q026'] == 'C'].shape[0]\n",
    "MT_N_TRAB = sum((data_train['NU_NOTA_MT'][data_train['Q026'] != 'C']))/data_train['NU_NOTA_MT'][data_train['Q026'] != 'C'].shape[0]\n",
    "#media de notas dos aluno em ciências da natureza pelo caso do aluno trabalhar ou não\n",
    "CN_TRAB = sum((data_train['NU_NOTA_CN'][data_train['Q026'] == 'C']))/data_train['NU_NOTA_CN'][data_train['Q026'] == 'C'].shape[0]\n",
    "CN_N_TRAB = sum((data_train['NU_NOTA_CN'][data_train['Q026'] != 'C']))/data_train['NU_NOTA_CN'][data_train['Q026'] != 'C'].shape[0]\n",
    "#media de notas dos aluno em ciências humanas pelo caso do aluno trabalhar ou não\n",
    "CH_TRAB = sum((data_train['NU_NOTA_CH'][data_train['Q026'] == 'C']))/data_train['NU_NOTA_CH'][data_train['Q026'] == 'C'].shape[0]\n",
    "CH_N_TRAB = sum((data_train['NU_NOTA_CH'][data_train['Q026'] != 'C']))/data_train['NU_NOTA_CH'][data_train['Q026'] != 'C'].shape[0]\n",
    "#media de notas dos aluno em linguagens e códigos pelo caso do aluno trabalhar ou não\n",
    "LC_TRAB = sum((data_train['NU_NOTA_LC'][data_train['Q026'] == 'C']))/data_train['NU_NOTA_LC'][data_train['Q026'] == 'C'].shape[0]\n",
    "LC_N_TRAB = sum((data_train['NU_NOTA_LC'][data_train['Q026'] != 'C']))/data_train['NU_NOTA_LC'][data_train['Q026'] != 'C'].shape[0]\n",
    "#media de notas dos aluno em redação pelo caso do aluno trabalhar ou não\n",
    "R_TRAB = sum((data_train['NU_NOTA_REDACAO'][data_train['Q026'] == 'C']))/data_train['NU_NOTA_REDACAO'][data_train['Q026'] == 'C'].shape[0]\n",
    "R_N_TRAB = sum((data_train['NU_NOTA_REDACAO'][data_train['Q026'] != 'C']))/data_train['NU_NOTA_REDACAO'][data_train['Q026'] != 'C'].shape[0]"
   ]
  },
  {
   "cell_type": "code",
   "execution_count": null,
   "metadata": {
    "colab": {
     "base_uri": "https://localhost:8080/"
    },
    "id": "INxFnXR3fTnh",
    "outputId": "03b0b8a1-006d-4f82-ae1d-5b341b5c86c9"
   },
   "outputs": [
    {
     "data": {
      "image/png": "[encoded data removed]",
      "text/plain": [
       "<Figure size 1440x504 with 2 Axes>"
      ]
     },
     "metadata": {
      "needs_background": "light",
      "tags": []
     },
     "output_type": "display_data"
    }
   ],
   "source": [
    "fig, axes = plt.subplots(1,2, figsize=(20,7))\n",
    "ax1 = sns.barplot(ax=axes[0], x=[\"MT\", \"CN\", \"CH\", \"LC\",\"Redação\"], y=[MT_TRAB, CN_TRAB, CH_TRAB, LC_TRAB, R_TRAB])\n",
    "axes[0].set_title(\"Trabalha\")\n",
    "axes[0].set_xlabel(\"Matéria\")\n",
    "axes[0].set_ylabel(\"Média\")\n",
    "ax2 = sns.barplot(ax=axes[1], x=[\"MT\", \"CN\", \"CH\", \"LC\", \"Redação\"], y=[MT_N_TRAB, CN_N_TRAB, CH_N_TRAB, LC_N_TRAB, R_N_TRAB])\n",
    "axes[1].set_title(\"Não Trabalha\")\n",
    "axes[1].set_xlabel(\"Matéria\")\n",
    "axes[1].set_ylabel(\"Média\")\n",
    "\n",
    "for p in ax1.patches:\n",
    "    ax1.annotate(format(p.get_height(), '.1f'), \n",
    "                   (p.get_x() + p.get_width() / 2., p.get_height()), \n",
    "                   ha = 'center', va = 'center', \n",
    "                   xytext = (0, -12), \n",
    "                   textcoords = 'offset points')\n",
    "for p in ax2.patches:\n",
    "    ax2.annotate(format(p.get_height(), '.1f'), \n",
    "                   (p.get_x() + p.get_width() / 2., p.get_height()), \n",
    "                   ha = 'center', va = 'center', \n",
    "                   xytext = (0, -12), \n",
    "                   textcoords = 'offset points')"
   ]
  },
  {
   "cell_type": "markdown",
   "metadata": {
    "id": "00zoSoNH_z9F"
   },
   "source": [
    "### Dropando colunas que não serão usadas no problema"
   ]
  },
  {
   "cell_type": "markdown",
   "metadata": {
    "id": "revkpLSk_z9F"
   },
   "source": [
    "#### Dropando colunas com informações irrelevantes ou redundantes"
   ]
  },
  {
   "cell_type": "code",
   "execution_count": null,
   "metadata": {
    "id": "-z4MumBs_z9H"
   },
   "outputs": [],
   "source": [
    "data_train.drop_duplicates(inplace=True)\n",
    "data_train.drop('Unnamed: 0', axis=1, inplace=True)\n",
    "data_train.drop(\"NU_INSCRICAO\", axis=1, inplace=True) #numero de inscrição\n",
    "data_train.drop('NU_ANO', axis=1, inplace=True) #ano de inscrição no Enem todos são 2016\n",
    "#Os campos que são redundantes é porque tem campos com a mesma informação em formato de código ao invès de sigla ou nome\n",
    "data_train.drop('NO_MUNICIPIO_RESIDENCIA', axis=1, inplace=True) # nome do municipio  de residencia, \n",
    "#essa informação é redundante, pois tem um campo com código do municipio\n",
    "data_train.drop('SG_UF_RESIDENCIA', axis=1, inplace=True) #sigla do municipio de residencia, também redundante\n",
    "data_train.drop('NO_MUNICIPIO_NASCIMENTO', axis=1, inplace=True) #Nome do municipio de residencia\n",
    "data_train.drop('SG_UF_NASCIMENTO', axis=1, inplace=True) #Sigla da Unidade da Federação de nascimento\n",
    "data_train.drop('NO_MUNICIPIO_PROVA', axis=1, inplace=True) #Nome do município da aplicação da prova\n",
    "data_train.drop('SG_UF_PROVA', axis=1, inplace=True) #Sigla da Unidade da Federação da aplicação da prova\n",
    "#informações que não irão influenciar na resolução do problema\n",
    "data_train.drop('CO_MUNICIPIO_NASCIMENTO', axis=1, inplace=True) #Código do municipio de nascimento\n",
    "data_train.drop('CO_UF_NASCIMENTO', axis=1, inplace=True) #Código da Unidade da Federação de nascimento"
   ]
  },
  {
   "cell_type": "code",
   "execution_count": null,
   "metadata": {
    "id": "tamr10_O_z9I"
   },
   "outputs": [],
   "source": [
    "#cópia dos dados \n",
    "data_copy = data_train.copy()"
   ]
  },
  {
   "cell_type": "markdown",
   "metadata": {
    "id": "NgSV0W5O_z9J"
   },
   "source": [
    "#### Dropando colunas com informações da prova"
   ]
  },
  {
   "cell_type": "code",
   "execution_count": null,
   "metadata": {
    "id": "IDXD9yGy_z9J"
   },
   "outputs": [],
   "source": [
    "data_train.drop('TP_PRESENCA_CN', axis=1, inplace=True)\n",
    "data_train.drop('TP_PRESENCA_CH', axis=1, inplace=True)\n",
    "data_train.drop('TP_PRESENCA_LC', axis=1, inplace=True)\n",
    "data_train.drop('CO_PROVA_CN', axis=1, inplace=True)\n",
    "data_train.drop('CO_PROVA_LC', axis=1, inplace=True)\n",
    "data_train.drop('NU_NOTA_CN', axis=1, inplace=True)\n",
    "data_train.drop('NU_NOTA_CH', axis=1, inplace=True)\n",
    "data_train.drop('NU_NOTA_LC', axis=1, inplace=True)\n",
    "data_train.drop('TX_RESPOSTAS_CN', axis=1, inplace=True)\n",
    "data_train.drop('TX_RESPOSTAS_CH', axis=1, inplace=True)\n",
    "data_train.drop('TX_RESPOSTAS_LC', axis=1, inplace=True)\n",
    "data_train.drop('TX_RESPOSTAS_MT', axis=1, inplace=True)\n",
    "data_train.drop('TP_LINGUA', axis=1, inplace=True)\n",
    "data_train.drop('TX_GABARITO_CN', axis=1, inplace=True)\n",
    "data_train.drop('TX_GABARITO_CH', axis=1, inplace=True)\n",
    "data_train.drop('TX_GABARITO_LC', axis=1, inplace=True)\n",
    "data_train.drop('TX_GABARITO_MT', axis=1, inplace=True)\n",
    "\n",
    "#informações da redação"
   ]
  },
  {
   "cell_type": "markdown",
   "metadata": {
    "id": "zwzyqnbY_z9K"
   },
   "source": [
    "### Criando Dataframe com apenas as informações de situação socioeconomica"
   ]
  },
  {
   "cell_type": "code",
   "execution_count": null,
   "metadata": {
    "colab": {
     "base_uri": "https://localhost:8080/"
    },
    "id": "oPRob1h4_z9M",
    "outputId": "b7853ed1-73e4-4273-c96e-e20f67456255"
   },
   "outputs": [
    {
     "data": {
      "text/plain": [
       "(9385, 119)"
      ]
     },
     "execution_count": 311,
     "metadata": {
      "tags": []
     },
     "output_type": "execute_result"
    }
   ],
   "source": [
    "#estão faltando as colunas com informações socioeconomicas da 27 a 33 e 41\n",
    "data_train.shape"
   ]
  },
  {
   "cell_type": "code",
   "execution_count": null,
   "metadata": {
    "id": "3xOdfrDh_z9N"
   },
   "outputs": [],
   "source": [
    "aux = data_train[data_train.columns[77:121]]"
   ]
  },
  {
   "cell_type": "code",
   "execution_count": null,
   "metadata": {
    "colab": {
     "base_uri": "https://localhost:8080/"
    },
    "id": "pD_q8BkB_z9N",
    "outputId": "10045130-a750-41b1-d4ba-0386a2f12b0c"
   },
   "outputs": [
    {
     "data": {
      "text/plain": [
       "(9385, 42)"
      ]
     },
     "execution_count": 313,
     "metadata": {
      "tags": []
     },
     "output_type": "execute_result"
    }
   ],
   "source": [
    "aux.shape"
   ]
  },
  {
   "cell_type": "code",
   "execution_count": null,
   "metadata": {
    "colab": {
     "base_uri": "https://localhost:8080/"
    },
    "id": "QO8BaAJv_z9O",
    "outputId": "0d379f1c-791c-4edd-af55-03b8e4985200"
   },
   "outputs": [
    {
     "data": {
      "text/plain": [
       "Index(['Q001', 'Q002', 'Q003', 'Q004', 'Q005', 'Q006', 'Q007', 'Q008', 'Q009',\n",
       "       'Q010', 'Q011', 'Q012', 'Q013', 'Q014', 'Q015', 'Q016', 'Q017', 'Q018',\n",
       "       'Q019', 'Q020', 'Q021', 'Q022', 'Q023', 'Q024', 'Q025', 'Q026', 'Q034',\n",
       "       'Q035', 'Q036', 'Q037', 'Q038', 'Q039', 'Q040', 'Q042', 'Q043', 'Q044',\n",
       "       'Q045', 'Q046', 'Q047', 'Q048', 'Q049', 'Q050'],\n",
       "      dtype='object')"
      ]
     },
     "execution_count": 314,
     "metadata": {
      "tags": []
     },
     "output_type": "execute_result"
    }
   ],
   "source": [
    "aux.columns"
   ]
  },
  {
   "cell_type": "markdown",
   "metadata": {
    "id": "66G7H0C3_z9Q"
   },
   "source": [
    "### Transformando valores categóricos"
   ]
  },
  {
   "cell_type": "markdown",
   "metadata": {
    "id": "OWbPC3LJ_z9Q"
   },
   "source": [
    "#### Dados socioeconomicos"
   ]
  },
  {
   "cell_type": "code",
   "execution_count": null,
   "metadata": {
    "colab": {
     "base_uri": "https://localhost:8080/"
    },
    "id": "4lfvje78_z9R",
    "outputId": "26469efe-82d2-474b-ffcd-440a638487a2"
   },
   "outputs": [
    {
     "name": "stderr",
     "output_type": "stream",
     "text": [
      "/usr/local/lib/python3.7/dist-packages/ipykernel_launcher.py:2: SettingWithCopyWarning: \n",
      "A value is trying to be set on a copy of a slice from a DataFrame.\n",
      "Try using .loc[row_indexer,col_indexer] = value instead\n",
      "\n",
      "See the caveats in the documentation: https://pandas.pydata.org/pandas-docs/stable/user_guide/indexing.html#returning-a-view-versus-a-copy\n",
      "  \n"
     ]
    }
   ],
   "source": [
    "for i in aux.columns:\n",
    "    aux[i] = pd.Categorical(aux[i]).codes"
   ]
  },
  {
   "cell_type": "markdown",
   "metadata": {
    "id": "vYtjG3xp_z9S"
   },
   "source": [
    "#### Features Selecionadas"
   ]
  },
  {
   "cell_type": "code",
   "execution_count": null,
   "metadata": {
    "colab": {
     "base_uri": "https://localhost:8080/"
    },
    "id": "P3m4V-h0_z9T",
    "outputId": "05387b96-7f3b-429b-df4f-baaeaade6f24"
   },
   "outputs": [
    {
     "data": {
      "text/plain": [
       "CO_MUNICIPIO_RESIDENCIA      int64\n",
       "CO_UF_RESIDENCIA             int64\n",
       "NU_IDADE                     int64\n",
       "TP_SEXO                     object\n",
       "TP_ESTADO_CIVIL            float64\n",
       "                            ...   \n",
       "Q046                        object\n",
       "Q047                        object\n",
       "Q048                        object\n",
       "Q049                        object\n",
       "Q050                        object\n",
       "Length: 119, dtype: object"
      ]
     },
     "execution_count": 316,
     "metadata": {
      "tags": []
     },
     "output_type": "execute_result"
    }
   ],
   "source": [
    "data_train.dtypes"
   ]
  },
  {
   "cell_type": "code",
   "execution_count": null,
   "metadata": {
    "colab": {
     "base_uri": "https://localhost:8080/"
    },
    "id": "wj_F1Olk_z9W",
    "outputId": "dea8d84c-2bea-4e2d-f24b-91d2c05a496d"
   },
   "outputs": [
    {
     "name": "stdout",
     "output_type": "stream",
     "text": [
      "<class 'pandas.core.frame.DataFrame'>\n",
      "Int64Index: 9385 entries, 0 to 13729\n",
      "Data columns (total 119 columns):\n",
      " #   Column                       Non-Null Count  Dtype  \n",
      "---  ------                       --------------  -----  \n",
      " 0   CO_MUNICIPIO_RESIDENCIA      9385 non-null   int64  \n",
      " 1   CO_UF_RESIDENCIA             9385 non-null   int64  \n",
      " 2   NU_IDADE                     9385 non-null   int64  \n",
      " 3   TP_SEXO                      9385 non-null   object \n",
      " 4   TP_ESTADO_CIVIL              9385 non-null   float64\n",
      " 5   TP_COR_RACA                  9385 non-null   int64  \n",
      " 6   TP_NACIONALIDADE             9385 non-null   int64  \n",
      " 7   TP_ST_CONCLUSAO              9385 non-null   int64  \n",
      " 8   TP_ANO_CONCLUIU              9385 non-null   int64  \n",
      " 9   TP_ESCOLA                    9385 non-null   int64  \n",
      " 10  IN_TREINEIRO                 9385 non-null   int64  \n",
      " 11  IN_BAIXA_VISAO               9385 non-null   int64  \n",
      " 12  IN_CEGUEIRA                  9385 non-null   int64  \n",
      " 13  IN_SURDEZ                    9385 non-null   int64  \n",
      " 14  IN_DEFICIENCIA_AUDITIVA      9385 non-null   int64  \n",
      " 15  IN_SURDO_CEGUEIRA            9385 non-null   int64  \n",
      " 16  IN_DEFICIENCIA_FISICA        9385 non-null   int64  \n",
      " 17  IN_DEFICIENCIA_MENTAL        9385 non-null   int64  \n",
      " 18  IN_DEFICIT_ATENCAO           9385 non-null   int64  \n",
      " 19  IN_DISLEXIA                  9385 non-null   int64  \n",
      " 20  IN_DISCALCULIA               9385 non-null   int64  \n",
      " 21  IN_AUTISMO                   9385 non-null   int64  \n",
      " 22  IN_VISAO_MONOCULAR           9385 non-null   int64  \n",
      " 23  IN_OUTRA_DEF                 9385 non-null   int64  \n",
      " 24  IN_SABATISTA                 9385 non-null   int64  \n",
      " 25  IN_GESTANTE                  9385 non-null   int64  \n",
      " 26  IN_LACTANTE                  9385 non-null   int64  \n",
      " 27  IN_IDOSO                     9385 non-null   int64  \n",
      " 28  IN_ESTUDA_CLASSE_HOSPITALAR  9385 non-null   int64  \n",
      " 29  IN_SEM_RECURSO               9385 non-null   int64  \n",
      " 30  IN_BRAILLE                   9385 non-null   int64  \n",
      " 31  IN_AMPLIADA_24               9385 non-null   int64  \n",
      " 32  IN_AMPLIADA_18               9385 non-null   int64  \n",
      " 33  IN_LEDOR                     9385 non-null   int64  \n",
      " 34  IN_ACESSO                    9385 non-null   int64  \n",
      " 35  IN_TRANSCRICAO               9385 non-null   int64  \n",
      " 36  IN_LIBRAS                    9385 non-null   int64  \n",
      " 37  IN_LEITURA_LABIAL            9385 non-null   int64  \n",
      " 38  IN_MESA_CADEIRA_RODAS        9385 non-null   int64  \n",
      " 39  IN_MESA_CADEIRA_SEPARADA     9385 non-null   int64  \n",
      " 40  IN_APOIO_PERNA               9385 non-null   int64  \n",
      " 41  IN_GUIA_INTERPRETE           9385 non-null   int64  \n",
      " 42  IN_MACA                      9385 non-null   int64  \n",
      " 43  IN_COMPUTADOR                9385 non-null   int64  \n",
      " 44  IN_CADEIRA_ESPECIAL          9385 non-null   int64  \n",
      " 45  IN_CADEIRA_CANHOTO           9385 non-null   int64  \n",
      " 46  IN_CADEIRA_ACOLCHOADA        9385 non-null   int64  \n",
      " 47  IN_PROVA_DEITADO             9385 non-null   int64  \n",
      " 48  IN_MOBILIARIO_OBESO          9385 non-null   int64  \n",
      " 49  IN_LAMINA_OVERLAY            9385 non-null   int64  \n",
      " 50  IN_PROTETOR_AURICULAR        9385 non-null   int64  \n",
      " 51  IN_MEDIDOR_GLICOSE           9385 non-null   int64  \n",
      " 52  IN_MAQUINA_BRAILE            9385 non-null   int64  \n",
      " 53  IN_SOROBAN                   9385 non-null   int64  \n",
      " 54  IN_MARCA_PASSO               9385 non-null   int64  \n",
      " 55  IN_SONDA                     9385 non-null   int64  \n",
      " 56  IN_MEDICAMENTOS              9385 non-null   int64  \n",
      " 57  IN_SALA_INDIVIDUAL           9385 non-null   int64  \n",
      " 58  IN_SALA_ESPECIAL             9385 non-null   int64  \n",
      " 59  IN_SALA_ACOMPANHANTE         9385 non-null   int64  \n",
      " 60  IN_MOBILIARIO_ESPECIFICO     9385 non-null   int64  \n",
      " 61  IN_MATERIAL_ESPECIFICO       9385 non-null   int64  \n",
      " 62  IN_NOME_SOCIAL               9385 non-null   int64  \n",
      " 63  IN_CERTIFICADO               9385 non-null   int64  \n",
      " 64  CO_MUNICIPIO_PROVA           9385 non-null   int64  \n",
      " 65  CO_UF_PROVA                  9385 non-null   int64  \n",
      " 66  TP_PRESENCA_MT               9385 non-null   int64  \n",
      " 67  CO_PROVA_CH                  9385 non-null   object \n",
      " 68  CO_PROVA_MT                  9385 non-null   object \n",
      " 69  NU_NOTA_MT                   9385 non-null   float64\n",
      " 70  TP_STATUS_REDACAO            9385 non-null   float64\n",
      " 71  NU_NOTA_COMP1                9385 non-null   float64\n",
      " 72  NU_NOTA_COMP2                9385 non-null   float64\n",
      " 73  NU_NOTA_COMP3                9385 non-null   float64\n",
      " 74  NU_NOTA_COMP4                9385 non-null   float64\n",
      " 75  NU_NOTA_COMP5                9385 non-null   float64\n",
      " 76  NU_NOTA_REDACAO              9385 non-null   float64\n",
      " 77  Q001                         9385 non-null   object \n",
      " 78  Q002                         9385 non-null   object \n",
      " 79  Q003                         9385 non-null   object \n",
      " 80  Q004                         9385 non-null   object \n",
      " 81  Q005                         9385 non-null   int64  \n",
      " 82  Q006                         9385 non-null   object \n",
      " 83  Q007                         9385 non-null   object \n",
      " 84  Q008                         9385 non-null   object \n",
      " 85  Q009                         9385 non-null   object \n",
      " 86  Q010                         9385 non-null   object \n",
      " 87  Q011                         9385 non-null   object \n",
      " 88  Q012                         9385 non-null   object \n",
      " 89  Q013                         9385 non-null   object \n",
      " 90  Q014                         9385 non-null   object \n",
      " 91  Q015                         9385 non-null   object \n",
      " 92  Q016                         9385 non-null   object \n",
      " 93  Q017                         9385 non-null   object \n",
      " 94  Q018                         9385 non-null   object \n",
      " 95  Q019                         9385 non-null   object \n",
      " 96  Q020                         9385 non-null   object \n",
      " 97  Q021                         9385 non-null   object \n",
      " 98  Q022                         9385 non-null   object \n",
      " 99  Q023                         9385 non-null   object \n",
      " 100 Q024                         9385 non-null   object \n",
      " 101 Q025                         9385 non-null   object \n",
      " 102 Q026                         9385 non-null   object \n",
      " 103 Q034                         9385 non-null   int64  \n",
      " 104 Q035                         9385 non-null   int64  \n",
      " 105 Q036                         9385 non-null   int64  \n",
      " 106 Q037                         9385 non-null   int64  \n",
      " 107 Q038                         9385 non-null   int64  \n",
      " 108 Q039                         9385 non-null   int64  \n",
      " 109 Q040                         9385 non-null   int64  \n",
      " 110 Q042                         9385 non-null   object \n",
      " 111 Q043                         9385 non-null   object \n",
      " 112 Q044                         9385 non-null   object \n",
      " 113 Q045                         9385 non-null   object \n",
      " 114 Q046                         9385 non-null   object \n",
      " 115 Q047                         9385 non-null   object \n",
      " 116 Q048                         9385 non-null   object \n",
      " 117 Q049                         9385 non-null   object \n",
      " 118 Q050                         9385 non-null   object \n",
      "dtypes: float64(9), int64(73), object(37)\n",
      "memory usage: 8.6+ MB\n"
     ]
    }
   ],
   "source": [
    "data_train.info(verbose=True, null_counts=True)"
   ]
  },
  {
   "cell_type": "code",
   "execution_count": null,
   "metadata": {
    "id": "NWox5v8q_z9W"
   },
   "outputs": [],
   "source": [
    "colunas = data_train.columns[data_train.dtypes == 'object']"
   ]
  },
  {
   "cell_type": "code",
   "execution_count": null,
   "metadata": {
    "colab": {
     "base_uri": "https://localhost:8080/"
    },
    "id": "91UVa_J2_z9X",
    "outputId": "b7ea0764-aa86-4f96-f912-887290bdf0c7"
   },
   "outputs": [
    {
     "data": {
      "text/plain": [
       "Index(['TP_SEXO', 'CO_PROVA_CH', 'CO_PROVA_MT', 'Q001', 'Q002', 'Q003', 'Q004',\n",
       "       'Q006', 'Q007', 'Q008', 'Q009', 'Q010', 'Q011', 'Q012', 'Q013', 'Q014',\n",
       "       'Q015', 'Q016', 'Q017', 'Q018', 'Q019', 'Q020', 'Q021', 'Q022', 'Q023',\n",
       "       'Q024', 'Q025', 'Q026', 'Q042', 'Q043', 'Q044', 'Q045', 'Q046', 'Q047',\n",
       "       'Q048', 'Q049', 'Q050'],\n",
       "      dtype='object')"
      ]
     },
     "execution_count": 319,
     "metadata": {
      "tags": []
     },
     "output_type": "execute_result"
    }
   ],
   "source": [
    "colunas"
   ]
  },
  {
   "cell_type": "code",
   "execution_count": null,
   "metadata": {
    "id": "dsP6VKcq_z9Z"
   },
   "outputs": [],
   "source": [
    "for i in colunas:\n",
    "    data_train[i] = pd.Categorical(data_train[i]).codes"
   ]
  },
  {
   "cell_type": "markdown",
   "metadata": {
    "id": "xPy7wCwQGdHV"
   },
   "source": [
    "### Instacias e parametros para o GridSearch"
   ]
  },
  {
   "cell_type": "code",
   "execution_count": null,
   "metadata": {
    "id": "qiGb8_mNyKNs"
   },
   "outputs": [],
   "source": [
    "model = {}\n",
    "model[0] = SVR()\n",
    "model[1] = SGDRegressor()\n",
    "model[2] = KNeighborsRegressor()\n",
    "model[3] = DecisionTreeRegressor()\n",
    "model[4] = RandomForestRegressor()"
   ]
  },
  {
   "cell_type": "code",
   "execution_count": null,
   "metadata": {
    "id": "af8QQ2FuyKNt"
   },
   "outputs": [],
   "source": [
    "cv = KFold(n_splits=3, shuffle=True, random_state=42)\n",
    "std = StandardScaler()"
   ]
  },
  {
   "cell_type": "code",
   "execution_count": null,
   "metadata": {
    "id": "awXreqpRYWcR"
   },
   "outputs": [],
   "source": [
    "param_range = [0.0001, 0.001, 0.01, 0.1, 1.0, 10]\n",
    "param_penalty = ['l1', 'l2', 'elasticnet']\n",
    "param_solver = ['lbfgs']\n",
    "n_estimators = [10, 50, 100, 200, 300, 400, 500]\n",
    "kernel = ['linear','rbf']\n",
    "SGD_lr = ['invscaling', 'adaptive']\n",
    "Kvizinhos = [1,2,3,4,5,6,7,8,9, 10,11,12,13,14,15]\n",
    "max_iter = [1000,2000,3000]"
   ]
  },
  {
   "cell_type": "code",
   "execution_count": null,
   "metadata": {
    "id": "Ea_UsC-lYWcV"
   },
   "outputs": [],
   "source": [
    "# param_grid = [{'estimator__alpha': param_range,'estimator__eta0': param_range,'estimator__n_iter': param_range,\n",
    "# 'estimator__penalty': param_reg, 'estimator__multi_class':['auto']}]\n",
    "params = {}\n",
    "params[0] = [{'estimator__C': param_range, 'estimator__kernel': kernel}]\n",
    "params[1] = [{'estimator__penalty': param_penalty, 'estimator__learning_rate': SGD_lr, 'estimator__eta0': param_range, 'estimator__max_iter': max_iter}]\n",
    "params[2] = [{'estimator__n_neighbors': Kvizinhos}]\n",
    "params[3] = [{'estimator__max_depth': Kvizinhos, 'estimator__random_state': [42]}]\n",
    "params[4] = [{'estimator__max_depth': Kvizinhos, 'estimator__random_state': [42], 'estimator__n_estimators': n_estimators }]"
   ]
  },
  {
   "cell_type": "markdown",
   "metadata": {
    "id": "B90JVtySvzko"
   },
   "source": [
    "## Treinamento dos modelos com as Features Selecionadas"
   ]
  },
  {
   "cell_type": "markdown",
   "metadata": {
    "id": "HD39sIATViAg"
   },
   "source": [
    "### Selecionando as features mais relevantes"
   ]
  },
  {
   "cell_type": "code",
   "execution_count": null,
   "metadata": {
    "id": "7n3660k4_z9e"
   },
   "outputs": [],
   "source": [
    "y = data_train['NU_NOTA_MT'].values\n",
    "X = data_train.drop('NU_NOTA_MT' ,axis=1).values"
   ]
  },
  {
   "cell_type": "code",
   "execution_count": null,
   "metadata": {
    "colab": {
     "base_uri": "https://localhost:8080/"
    },
    "id": "g-sBatwBp2Dc",
    "outputId": "7b5d021d-ccc0-418f-8183-14908e1e2c9b"
   },
   "outputs": [
    {
     "data": {
      "text/plain": [
       "((9385, 118), (9385,))"
      ]
     },
     "execution_count": 194,
     "metadata": {
      "tags": []
     },
     "output_type": "execute_result"
    }
   ],
   "source": [
    "X.shape, y.shape"
   ]
  },
  {
   "cell_type": "code",
   "execution_count": null,
   "metadata": {
    "id": "DOhKkAtXJXPr"
   },
   "outputs": [],
   "source": [
    "#muito custoso computacionalmente falando\n",
    "#model = SVR(kernel='linear')\n",
    "#rfe = RFE(model, step=5).fit(X, y)\n",
    "#rfe.support_"
   ]
  },
  {
   "cell_type": "code",
   "execution_count": null,
   "metadata": {
    "id": "iWy8QFW-PMe2"
   },
   "outputs": [],
   "source": [
    "select = RandomForestRegressor().fit(X,y)"
   ]
  },
  {
   "cell_type": "code",
   "execution_count": null,
   "metadata": {
    "colab": {
     "base_uri": "https://localhost:8080/"
    },
    "id": "kSmFHk3npD86",
    "outputId": "82f1e6c5-b295-4999-8a1a-bb9cdc4b7cad"
   },
   "outputs": [
    {
     "data": {
      "text/plain": [
       "array([ True,  True,  True,  True,  True,  True, False,  True,  True,\n",
       "        True,  True,  True, False,  True,  True, False,  True,  True,\n",
       "        True,  True,  True, False,  True,  True,  True,  True,  True,\n",
       "        True, False,  True, False,  True,  True,  True,  True,  True,\n",
       "        True,  True,  True,  True,  True, False, False, False, False,\n",
       "       False, False, False, False, False, False, False, False, False,\n",
       "       False, False, False, False, False, False, False, False,  True,\n",
       "        True,  True,  True, False,  True,  True,  True,  True,  True,\n",
       "        True,  True,  True,  True,  True,  True,  True,  True,  True,\n",
       "        True,  True,  True,  True,  True,  True,  True,  True,  True,\n",
       "        True,  True,  True,  True,  True,  True,  True,  True,  True,\n",
       "        True,  True,  True,  True,  True,  True,  True,  True,  True,\n",
       "        True,  True,  True,  True,  True,  True,  True,  True,  True,\n",
       "        True])"
      ]
     },
     "execution_count": 197,
     "metadata": {
      "tags": []
     },
     "output_type": "execute_result"
    }
   ],
   "source": [
    "select.feature_importances_ > 0"
   ]
  },
  {
   "cell_type": "code",
   "execution_count": null,
   "metadata": {
    "id": "V8-1ZwrkpatJ"
   },
   "outputs": [],
   "source": [
    "X = X[:,select.feature_importances_ > 0]"
   ]
  },
  {
   "cell_type": "code",
   "execution_count": null,
   "metadata": {
    "colab": {
     "base_uri": "https://localhost:8080/"
    },
    "id": "ZBx2bG6vp902",
    "outputId": "3ad80f28-acaa-4060-c413-6943f83f120e"
   },
   "outputs": [
    {
     "data": {
      "text/plain": [
       "(9385, 90)"
      ]
     },
     "execution_count": 199,
     "metadata": {
      "tags": []
     },
     "output_type": "execute_result"
    }
   ],
   "source": [
    "X.shape # a quantidade de colunas foi reduzida de 118 para 90 ou seja, foram excluidas 28 colunas"
   ]
  },
  {
   "cell_type": "markdown",
   "metadata": {
    "id": "PhKGMXj7_z9e"
   },
   "source": [
    "### Divisão dos dados de treino em treino e teste"
   ]
  },
  {
   "cell_type": "code",
   "execution_count": null,
   "metadata": {
    "id": "mrQ62p-b_z9f"
   },
   "outputs": [],
   "source": [
    "X_train, X_test, y_train, y_test = train_test_split(X, y, shuffle=True, test_size=0.30, random_state=42)"
   ]
  },
  {
   "cell_type": "markdown",
   "metadata": {
    "id": "5fV0yZ4TyKNq"
   },
   "source": [
    "### Treinando modelos"
   ]
  },
  {
   "cell_type": "code",
   "execution_count": null,
   "metadata": {
    "colab": {
     "base_uri": "https://localhost:8080/"
    },
    "id": "TyuL9tJZyKNv",
    "outputId": "94fa182d-4e6e-48ca-d39b-387bdbe7d322"
   },
   "outputs": [
    {
     "name": "stdout",
     "output_type": "stream",
     "text": [
      "0\n",
      "1\n",
      "2\n",
      "3\n",
      "4\n"
     ]
    }
   ],
   "source": [
    "gs = {}\n",
    "acc = {}\n",
    "for i in model:\n",
    "    print(i)\n",
    "    pipeline = Pipeline([('scaler', std), ('estimator',model[i])])\n",
    "    gs[i] = GridSearchCV(pipeline, param_grid=params[i], cv=cv, n_jobs=-1)\n",
    "    gs[i].fit(X_train, y_train)"
   ]
  },
  {
   "cell_type": "code",
   "execution_count": null,
   "metadata": {
    "colab": {
     "base_uri": "https://localhost:8080/"
    },
    "id": "J9YoUgIGyKNw",
    "outputId": "50bb9d44-053b-4d0b-8e77-7eb7fc6bd4e0"
   },
   "outputs": [
    {
     "name": "stdout",
     "output_type": "stream",
     "text": [
      "{'estimator__C': 0.1, 'estimator__kernel': 'linear'} : \n",
      " 0.3146219727110275 \n",
      "\n",
      "{'estimator__eta0': 0.001, 'estimator__learning_rate': 'invscaling', 'estimator__max_iter': 1000, 'estimator__penalty': 'l2'} : \n",
      " 0.3203864975337294 \n",
      "\n",
      "{'estimator__n_neighbors': 15} : \n",
      " 0.26856710181828464 \n",
      "\n",
      "{'estimator__max_depth': 4, 'estimator__random_state': 42} : \n",
      " 0.2329257528544322 \n",
      "\n",
      "{'estimator__max_depth': 9, 'estimator__n_estimators': 300, 'estimator__random_state': 42} : \n",
      " 0.31656813336752937 \n",
      "\n"
     ]
    }
   ],
   "source": [
    "for i in gs:\n",
    "    print(gs[i].best_params_, \": \\n\",gs[i].best_score_, \"\\n\")"
   ]
  },
  {
   "cell_type": "markdown",
   "metadata": {
    "id": "8dXn5RIjAary"
   },
   "source": [
    "### Treinando o modelo com o melhor resultado com todos os dados de treino"
   ]
  },
  {
   "cell_type": "code",
   "execution_count": null,
   "metadata": {
    "id": "MlxqGnavhTgC"
   },
   "outputs": [],
   "source": [
    "std_FS = StandardScaler()\n",
    "X_train_std = std_FS.fit_transform(X_train)\n",
    "X_test_std = std_FS.fit_transform(X_test) "
   ]
  },
  {
   "cell_type": "code",
   "execution_count": null,
   "metadata": {
    "id": "IDKel73sAY10"
   },
   "outputs": [],
   "source": [
    "model1_FS =  SGDRegressor(eta0=0.001, learning_rate='invscaling', max_iter=1000, penalty= 'l2').fit(X_train_std, y_train)"
   ]
  },
  {
   "cell_type": "code",
   "execution_count": null,
   "metadata": {
    "id": "G7weigjEFB2N"
   },
   "outputs": [],
   "source": [
    "MSE1_FS = mean_squared_error(y_test, model1_FS.predict(X_test_std))"
   ]
  },
  {
   "cell_type": "code",
   "execution_count": null,
   "metadata": {
    "colab": {
     "base_uri": "https://localhost:8080/"
    },
    "id": "Xv7NVnErGSMr",
    "outputId": "6382890b-6dd5-406c-dc49-d2c8c4c3731e"
   },
   "outputs": [
    {
     "data": {
      "text/plain": [
       "6551.097888437912"
      ]
     },
     "execution_count": 338,
     "metadata": {
      "tags": []
     },
     "output_type": "execute_result"
    }
   ],
   "source": [
    "MSE1_FS"
   ]
  },
  {
   "cell_type": "code",
   "execution_count": null,
   "metadata": {
    "id": "ATXlhbwFXdJn"
   },
   "outputs": [],
   "source": [
    "model2_FS = RandomForestRegressor(max_depth=9, n_estimators=300,random_state= 42).fit(X_train_std, y_train)"
   ]
  },
  {
   "cell_type": "code",
   "execution_count": null,
   "metadata": {
    "id": "qbriHgk3XyKh"
   },
   "outputs": [],
   "source": [
    "MSE2_FS = mean_squared_error(y_test, model2_FS.predict(X_test_std))"
   ]
  },
  {
   "cell_type": "code",
   "execution_count": null,
   "metadata": {
    "colab": {
     "base_uri": "https://localhost:8080/"
    },
    "id": "8b1xsGD1ZCgF",
    "outputId": "6cfd0c6f-f845-4804-df3f-337f968ce904"
   },
   "outputs": [
    {
     "data": {
      "text/plain": [
       "6447.497458295053"
      ]
     },
     "execution_count": 341,
     "metadata": {
      "tags": []
     },
     "output_type": "execute_result"
    }
   ],
   "source": [
    "MSE2_FS"
   ]
  },
  {
   "cell_type": "markdown",
   "metadata": {
    "id": "Bn0SgfnLvRtQ"
   },
   "source": [
    "## Treinamento dos modelos apenas com informações Socioeconomicas"
   ]
  },
  {
   "cell_type": "markdown",
   "metadata": {
    "id": "7GWJPOGWqT8K"
   },
   "source": [
    "### Selecionando as features mais relevantes"
   ]
  },
  {
   "cell_type": "code",
   "execution_count": null,
   "metadata": {
    "colab": {
     "base_uri": "https://localhost:8080/"
    },
    "id": "d2JqnhcVqT8O",
    "outputId": "81ac8bf8-d03a-4591-f4cf-6914cc7f335b"
   },
   "outputs": [
    {
     "data": {
      "text/plain": [
       "((9385, 42), (9385,))"
      ]
     },
     "execution_count": 203,
     "metadata": {
      "tags": []
     },
     "output_type": "execute_result"
    }
   ],
   "source": [
    "aux.shape, y.shape"
   ]
  },
  {
   "cell_type": "code",
   "execution_count": null,
   "metadata": {
    "id": "plaiSzFjqT8P"
   },
   "outputs": [],
   "source": [
    "#muito custoso computacionalmente falando\n",
    "#model = SVR(kernel='linear')\n",
    "#rfe = RFE(model, step=5).fit(X, y)\n",
    "#rfe.support_"
   ]
  },
  {
   "cell_type": "code",
   "execution_count": null,
   "metadata": {
    "id": "y-um902zqT8R"
   },
   "outputs": [],
   "source": [
    "select = RandomForestRegressor().fit(aux,y)"
   ]
  },
  {
   "cell_type": "code",
   "execution_count": null,
   "metadata": {
    "colab": {
     "base_uri": "https://localhost:8080/"
    },
    "id": "9yBtA5eZqT8R",
    "outputId": "e2ed0e32-8629-4742-ce00-fd08d2411f34"
   },
   "outputs": [
    {
     "data": {
      "text/plain": [
       "array([ True,  True,  True,  True,  True,  True,  True,  True,  True,\n",
       "        True,  True,  True,  True,  True,  True,  True,  True,  True,\n",
       "        True,  True,  True,  True,  True,  True,  True,  True,  True,\n",
       "        True,  True,  True,  True,  True,  True,  True,  True,  True,\n",
       "        True,  True,  True,  True,  True,  True])"
      ]
     },
     "execution_count": 206,
     "metadata": {
      "tags": []
     },
     "output_type": "execute_result"
    }
   ],
   "source": [
    "select.feature_importances_ > 0 # todas as features tem um score > 0, logo, nenhuma colunas será descartada"
   ]
  },
  {
   "cell_type": "markdown",
   "metadata": {
    "id": "2BoD6B5w_z9b"
   },
   "source": [
    "### Divisão dos dados de treino em treino e teste"
   ]
  },
  {
   "cell_type": "code",
   "execution_count": null,
   "metadata": {
    "id": "jCsNXabc_z9d"
   },
   "outputs": [],
   "source": [
    "X_train_aux, X_test_aux, y_train_aux, y_test_aux = train_test_split(aux, y, test_size=0.30, random_state=42)"
   ]
  },
  {
   "cell_type": "markdown",
   "metadata": {
    "id": "r2EIsN51_z9j"
   },
   "source": [
    "### Treinando modelos"
   ]
  },
  {
   "cell_type": "code",
   "execution_count": null,
   "metadata": {
    "colab": {
     "base_uri": "https://localhost:8080/"
    },
    "id": "Kvt8MBVaYWcY",
    "outputId": "761110a8-738b-433a-9cd5-23ff86c26847"
   },
   "outputs": [
    {
     "name": "stdout",
     "output_type": "stream",
     "text": [
      "0\n",
      "1\n",
      "2\n",
      "3\n",
      "4\n"
     ]
    }
   ],
   "source": [
    "gs = {}\n",
    "acc = {}\n",
    "for i in model:\n",
    "    print(i)\n",
    "    pipeline = Pipeline([('scaler', std), ('estimator',model[i])])\n",
    "    gs[i] = GridSearchCV(pipeline, param_grid=params[i], cv=cv, n_jobs=-1)\n",
    "    gs[i].fit(X_train_aux, y_train_aux)"
   ]
  },
  {
   "cell_type": "code",
   "execution_count": null,
   "metadata": {
    "colab": {
     "base_uri": "https://localhost:8080/"
    },
    "id": "vSXO5RV8YWch",
    "outputId": "caf31975-ff94-41d0-b5cf-c9b966e2834c"
   },
   "outputs": [
    {
     "name": "stdout",
     "output_type": "stream",
     "text": [
      "{'estimator__C': 0.1, 'estimator__kernel': 'linear'} : \n",
      " 0.2315752292379891 \n",
      "\n",
      "{'estimator__eta0': 0.001, 'estimator__learning_rate': 'invscaling', 'estimator__max_iter': 1000, 'estimator__penalty': 'elasticnet'} : \n",
      " 0.24925779123285285 \n",
      "\n",
      "{'estimator__n_neighbors': 15} : \n",
      " 0.19832102959628736 \n",
      "\n",
      "{'estimator__max_depth': 3, 'estimator__random_state': 42} : \n",
      " 0.1715846783600631 \n",
      "\n",
      "{'estimator__max_depth': 9, 'estimator__n_estimators': 400, 'estimator__random_state': 42} : \n",
      " 0.24212836073948774 \n",
      "\n"
     ]
    }
   ],
   "source": [
    "for i in gs:\n",
    "    print(gs[i].best_params_, \": \\n\",gs[i].best_score_, \"\\n\")"
   ]
  },
  {
   "cell_type": "markdown",
   "metadata": {
    "id": "Of54MsCGEYQC"
   },
   "source": [
    "### Treinando o modelo com o melhor resultado com todos os dados de treino"
   ]
  },
  {
   "cell_type": "code",
   "execution_count": null,
   "metadata": {
    "id": "L5LNsZ8riBiN"
   },
   "outputs": [],
   "source": [
    "std_SE = StandardScaler()\n",
    "X_train_aux_std = std_SE.fit_transform(X_train_aux)\n",
    "X_test_aux_std = std_SE.fit_transform(X_test_aux) "
   ]
  },
  {
   "cell_type": "code",
   "execution_count": null,
   "metadata": {
    "id": "1ud2MZ_dEYQF"
   },
   "outputs": [],
   "source": [
    "model1_SE =  SGDRegressor(eta0=0.001,learning_rate='invscaling', max_iter=1000, penalty= 'elasticnet').fit(X_train_aux_std, y_train_aux)"
   ]
  },
  {
   "cell_type": "code",
   "execution_count": null,
   "metadata": {
    "id": "8VyLeomeG7Oa"
   },
   "outputs": [],
   "source": [
    "MSE1_SE = mean_squared_error(y_test_aux, model1_SE.predict(X_test_aux_std))"
   ]
  },
  {
   "cell_type": "code",
   "execution_count": null,
   "metadata": {
    "colab": {
     "base_uri": "https://localhost:8080/"
    },
    "id": "_nBTxraRHQIE",
    "outputId": "39403964-f6c3-4009-a245-77df26392c52"
   },
   "outputs": [
    {
     "data": {
      "text/plain": [
       "7262.8793384614055"
      ]
     },
     "execution_count": 345,
     "metadata": {
      "tags": []
     },
     "output_type": "execute_result"
    }
   ],
   "source": [
    "MSE1_SE"
   ]
  },
  {
   "cell_type": "code",
   "execution_count": null,
   "metadata": {
    "id": "H-A6fQ4taBII"
   },
   "outputs": [],
   "source": [
    "model2_SE = RandomForestRegressor(max_depth=9, n_estimators =400, random_state= 42).fit(X_train_aux_std, y_train_aux)"
   ]
  },
  {
   "cell_type": "code",
   "execution_count": null,
   "metadata": {
    "id": "4H_RqcFmaWEl"
   },
   "outputs": [],
   "source": [
    "MSE2_SE = mean_squared_error(y_test_aux, model2_SE.predict(X_test_aux_std))"
   ]
  },
  {
   "cell_type": "code",
   "execution_count": null,
   "metadata": {
    "colab": {
     "base_uri": "https://localhost:8080/"
    },
    "id": "n36Kxt7ZabtE",
    "outputId": "8b94b545-6adc-4b75-c064-f1c6fe739bdc"
   },
   "outputs": [
    {
     "data": {
      "text/plain": [
       "7254.58689039752"
      ]
     },
     "execution_count": 348,
     "metadata": {
      "tags": []
     },
     "output_type": "execute_result"
    }
   ],
   "source": [
    "MSE2_SE"
   ]
  }
 ],
 "metadata": {
  "colab": {
   "collapsed_sections": [
    "2TnVGfQf_z8W",
    "G-44Iji1_z8z",
    "00zoSoNH_z9F",
    "revkpLSk_z9F",
    "NgSV0W5O_z9J",
    "zwzyqnbY_z9K",
    "66G7H0C3_z9Q",
    "OWbPC3LJ_z9Q",
    "vYtjG3xp_z9S",
    "HD39sIATViAg",
    "PhKGMXj7_z9e",
    "8dXn5RIjAary",
    "Bn0SgfnLvRtQ",
    "7GWJPOGWqT8K",
    "2BoD6B5w_z9b",
    "r2EIsN51_z9j"
   ],
   "name": "TF_DTM.ipynb",
   "provenance": [],
   "toc_visible": true
  },
  "kernelspec": {
   "display_name": "Python 3",
   "language": "python",
   "name": "python3"
  },
  "language_info": {
   "codemirror_mode": {
    "name": "ipython",
    "version": 3
   },
   "file_extension": ".py",
   "mimetype": "text/x-python",
   "name": "python",
   "nbconvert_exporter": "python",
   "pygments_lexer": "ipython3",
   "version": "3.7.4"
  }
 },
 "nbformat": 4,
 "nbformat_minor": 1
}
